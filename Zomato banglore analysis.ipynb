{
 "cells": [
  {
   "cell_type": "markdown",
   "id": "12a64bbd",
   "metadata": {
    "papermill": {
     "duration": 0.046447,
     "end_time": "2021-10-14T18:51:57.026113",
     "exception": false,
     "start_time": "2021-10-14T18:51:56.979666",
     "status": "completed"
    },
    "tags": []
   },
   "source": []
  },
  {
   "cell_type": "markdown",
   "id": "af2b9af8",
   "metadata": {
    "papermill": {
     "duration": 0.042999,
     "end_time": "2021-10-14T18:51:57.112764",
     "exception": false,
     "start_time": "2021-10-14T18:51:57.069765",
     "status": "completed"
    },
    "tags": []
   },
   "source": [
    "IMPORT LIBRARIES"
   ]
  },
  {
   "cell_type": "code",
   "execution_count": 1,
   "id": "4e1bf6d3",
   "metadata": {
    "execution": {
     "iopub.execute_input": "2021-10-14T18:51:57.212815Z",
     "iopub.status.busy": "2021-10-14T18:51:57.211919Z",
     "iopub.status.idle": "2021-10-14T18:51:58.240999Z",
     "shell.execute_reply": "2021-10-14T18:51:58.240184Z",
     "shell.execute_reply.started": "2021-10-14T17:49:12.049051Z"
    },
    "papermill": {
     "duration": 1.085444,
     "end_time": "2021-10-14T18:51:58.241172",
     "exception": false,
     "start_time": "2021-10-14T18:51:57.155728",
     "status": "completed"
    },
    "tags": []
   },
   "outputs": [],
   "source": [
    "import pandas as pd\n",
    "import numpy as np\n",
    "import matplotlib.pyplot as plt\n",
    "import seaborn as sb\n",
    "plt.style.use('dark_background')"
   ]
  },
  {
   "cell_type": "markdown",
   "id": "455bf7fd",
   "metadata": {
    "papermill": {
     "duration": 0.042565,
     "end_time": "2021-10-14T18:51:58.327855",
     "exception": false,
     "start_time": "2021-10-14T18:51:58.285290",
     "status": "completed"
    },
    "tags": []
   },
   "source": [
    "READING THE FILES"
   ]
  },
  {
   "cell_type": "code",
   "execution_count": 2,
   "id": "0c033348",
   "metadata": {
    "execution": {
     "iopub.execute_input": "2021-10-14T18:51:58.416714Z",
     "iopub.status.busy": "2021-10-14T18:51:58.416018Z",
     "iopub.status.idle": "2021-10-14T18:52:10.564845Z",
     "shell.execute_reply": "2021-10-14T18:52:10.565381Z",
     "shell.execute_reply.started": "2021-10-14T17:49:12.056663Z"
    },
    "papermill": {
     "duration": 12.195957,
     "end_time": "2021-10-14T18:52:10.565581",
     "exception": false,
     "start_time": "2021-10-14T18:51:58.369624",
     "status": "completed"
    },
    "tags": []
   },
   "outputs": [
    {
     "data": {
      "text/html": [
       "<div>\n",
       "<style scoped>\n",
       "    .dataframe tbody tr th:only-of-type {\n",
       "        vertical-align: middle;\n",
       "    }\n",
       "\n",
       "    .dataframe tbody tr th {\n",
       "        vertical-align: top;\n",
       "    }\n",
       "\n",
       "    .dataframe thead th {\n",
       "        text-align: right;\n",
       "    }\n",
       "</style>\n",
       "<table border=\"1\" class=\"dataframe\">\n",
       "  <thead>\n",
       "    <tr style=\"text-align: right;\">\n",
       "      <th></th>\n",
       "      <th>url</th>\n",
       "      <th>address</th>\n",
       "      <th>name</th>\n",
       "      <th>online_order</th>\n",
       "      <th>book_table</th>\n",
       "      <th>rate</th>\n",
       "      <th>votes</th>\n",
       "      <th>phone</th>\n",
       "      <th>location</th>\n",
       "      <th>rest_type</th>\n",
       "      <th>dish_liked</th>\n",
       "      <th>cuisines</th>\n",
       "      <th>approx_cost(for two people)</th>\n",
       "      <th>reviews_list</th>\n",
       "      <th>menu_item</th>\n",
       "      <th>listed_in(type)</th>\n",
       "      <th>listed_in(city)</th>\n",
       "    </tr>\n",
       "  </thead>\n",
       "  <tbody>\n",
       "    <tr>\n",
       "      <th>0</th>\n",
       "      <td>https://www.zomato.com/bangalore/jalsa-banasha...</td>\n",
       "      <td>942, 21st Main Road, 2nd Stage, Banashankari, ...</td>\n",
       "      <td>Jalsa</td>\n",
       "      <td>Yes</td>\n",
       "      <td>Yes</td>\n",
       "      <td>4.1/5</td>\n",
       "      <td>775</td>\n",
       "      <td>080 42297555\\r\\n+91 9743772233</td>\n",
       "      <td>Banashankari</td>\n",
       "      <td>Casual Dining</td>\n",
       "      <td>Pasta, Lunch Buffet, Masala Papad, Paneer Laja...</td>\n",
       "      <td>North Indian, Mughlai, Chinese</td>\n",
       "      <td>800</td>\n",
       "      <td>[('Rated 4.0', 'RATED\\n  A beautiful place to ...</td>\n",
       "      <td>[]</td>\n",
       "      <td>Buffet</td>\n",
       "      <td>Banashankari</td>\n",
       "    </tr>\n",
       "    <tr>\n",
       "      <th>1</th>\n",
       "      <td>https://www.zomato.com/bangalore/spice-elephan...</td>\n",
       "      <td>2nd Floor, 80 Feet Road, Near Big Bazaar, 6th ...</td>\n",
       "      <td>Spice Elephant</td>\n",
       "      <td>Yes</td>\n",
       "      <td>No</td>\n",
       "      <td>4.1/5</td>\n",
       "      <td>787</td>\n",
       "      <td>080 41714161</td>\n",
       "      <td>Banashankari</td>\n",
       "      <td>Casual Dining</td>\n",
       "      <td>Momos, Lunch Buffet, Chocolate Nirvana, Thai G...</td>\n",
       "      <td>Chinese, North Indian, Thai</td>\n",
       "      <td>800</td>\n",
       "      <td>[('Rated 4.0', 'RATED\\n  Had been here for din...</td>\n",
       "      <td>[]</td>\n",
       "      <td>Buffet</td>\n",
       "      <td>Banashankari</td>\n",
       "    </tr>\n",
       "    <tr>\n",
       "      <th>2</th>\n",
       "      <td>https://www.zomato.com/SanchurroBangalore?cont...</td>\n",
       "      <td>1112, Next to KIMS Medical College, 17th Cross...</td>\n",
       "      <td>San Churro Cafe</td>\n",
       "      <td>Yes</td>\n",
       "      <td>No</td>\n",
       "      <td>3.8/5</td>\n",
       "      <td>918</td>\n",
       "      <td>+91 9663487993</td>\n",
       "      <td>Banashankari</td>\n",
       "      <td>Cafe, Casual Dining</td>\n",
       "      <td>Churros, Cannelloni, Minestrone Soup, Hot Choc...</td>\n",
       "      <td>Cafe, Mexican, Italian</td>\n",
       "      <td>800</td>\n",
       "      <td>[('Rated 3.0', \"RATED\\n  Ambience is not that ...</td>\n",
       "      <td>[]</td>\n",
       "      <td>Buffet</td>\n",
       "      <td>Banashankari</td>\n",
       "    </tr>\n",
       "    <tr>\n",
       "      <th>3</th>\n",
       "      <td>https://www.zomato.com/bangalore/addhuri-udupi...</td>\n",
       "      <td>1st Floor, Annakuteera, 3rd Stage, Banashankar...</td>\n",
       "      <td>Addhuri Udupi Bhojana</td>\n",
       "      <td>No</td>\n",
       "      <td>No</td>\n",
       "      <td>3.7/5</td>\n",
       "      <td>88</td>\n",
       "      <td>+91 9620009302</td>\n",
       "      <td>Banashankari</td>\n",
       "      <td>Quick Bites</td>\n",
       "      <td>Masala Dosa</td>\n",
       "      <td>South Indian, North Indian</td>\n",
       "      <td>300</td>\n",
       "      <td>[('Rated 4.0', \"RATED\\n  Great food and proper...</td>\n",
       "      <td>[]</td>\n",
       "      <td>Buffet</td>\n",
       "      <td>Banashankari</td>\n",
       "    </tr>\n",
       "    <tr>\n",
       "      <th>4</th>\n",
       "      <td>https://www.zomato.com/bangalore/grand-village...</td>\n",
       "      <td>10, 3rd Floor, Lakshmi Associates, Gandhi Baza...</td>\n",
       "      <td>Grand Village</td>\n",
       "      <td>No</td>\n",
       "      <td>No</td>\n",
       "      <td>3.8/5</td>\n",
       "      <td>166</td>\n",
       "      <td>+91 8026612447\\r\\n+91 9901210005</td>\n",
       "      <td>Basavanagudi</td>\n",
       "      <td>Casual Dining</td>\n",
       "      <td>Panipuri, Gol Gappe</td>\n",
       "      <td>North Indian, Rajasthani</td>\n",
       "      <td>600</td>\n",
       "      <td>[('Rated 4.0', 'RATED\\n  Very good restaurant ...</td>\n",
       "      <td>[]</td>\n",
       "      <td>Buffet</td>\n",
       "      <td>Banashankari</td>\n",
       "    </tr>\n",
       "  </tbody>\n",
       "</table>\n",
       "</div>"
      ],
      "text/plain": [
       "                                                 url  \\\n",
       "0  https://www.zomato.com/bangalore/jalsa-banasha...   \n",
       "1  https://www.zomato.com/bangalore/spice-elephan...   \n",
       "2  https://www.zomato.com/SanchurroBangalore?cont...   \n",
       "3  https://www.zomato.com/bangalore/addhuri-udupi...   \n",
       "4  https://www.zomato.com/bangalore/grand-village...   \n",
       "\n",
       "                                             address                   name  \\\n",
       "0  942, 21st Main Road, 2nd Stage, Banashankari, ...                  Jalsa   \n",
       "1  2nd Floor, 80 Feet Road, Near Big Bazaar, 6th ...         Spice Elephant   \n",
       "2  1112, Next to KIMS Medical College, 17th Cross...        San Churro Cafe   \n",
       "3  1st Floor, Annakuteera, 3rd Stage, Banashankar...  Addhuri Udupi Bhojana   \n",
       "4  10, 3rd Floor, Lakshmi Associates, Gandhi Baza...          Grand Village   \n",
       "\n",
       "  online_order book_table   rate  votes                             phone  \\\n",
       "0          Yes        Yes  4.1/5    775    080 42297555\\r\\n+91 9743772233   \n",
       "1          Yes         No  4.1/5    787                      080 41714161   \n",
       "2          Yes         No  3.8/5    918                    +91 9663487993   \n",
       "3           No         No  3.7/5     88                    +91 9620009302   \n",
       "4           No         No  3.8/5    166  +91 8026612447\\r\\n+91 9901210005   \n",
       "\n",
       "       location            rest_type  \\\n",
       "0  Banashankari        Casual Dining   \n",
       "1  Banashankari        Casual Dining   \n",
       "2  Banashankari  Cafe, Casual Dining   \n",
       "3  Banashankari          Quick Bites   \n",
       "4  Basavanagudi        Casual Dining   \n",
       "\n",
       "                                          dish_liked  \\\n",
       "0  Pasta, Lunch Buffet, Masala Papad, Paneer Laja...   \n",
       "1  Momos, Lunch Buffet, Chocolate Nirvana, Thai G...   \n",
       "2  Churros, Cannelloni, Minestrone Soup, Hot Choc...   \n",
       "3                                        Masala Dosa   \n",
       "4                                Panipuri, Gol Gappe   \n",
       "\n",
       "                         cuisines approx_cost(for two people)  \\\n",
       "0  North Indian, Mughlai, Chinese                         800   \n",
       "1     Chinese, North Indian, Thai                         800   \n",
       "2          Cafe, Mexican, Italian                         800   \n",
       "3      South Indian, North Indian                         300   \n",
       "4        North Indian, Rajasthani                         600   \n",
       "\n",
       "                                        reviews_list menu_item  \\\n",
       "0  [('Rated 4.0', 'RATED\\n  A beautiful place to ...        []   \n",
       "1  [('Rated 4.0', 'RATED\\n  Had been here for din...        []   \n",
       "2  [('Rated 3.0', \"RATED\\n  Ambience is not that ...        []   \n",
       "3  [('Rated 4.0', \"RATED\\n  Great food and proper...        []   \n",
       "4  [('Rated 4.0', 'RATED\\n  Very good restaurant ...        []   \n",
       "\n",
       "  listed_in(type) listed_in(city)  \n",
       "0          Buffet    Banashankari  \n",
       "1          Buffet    Banashankari  \n",
       "2          Buffet    Banashankari  \n",
       "3          Buffet    Banashankari  \n",
       "4          Buffet    Banashankari  "
      ]
     },
     "execution_count": 2,
     "metadata": {},
     "output_type": "execute_result"
    }
   ],
   "source": [
    "df=pd.read_csv('../input/zomato-bangalore-restaurants/zomato.csv')\n",
    "df.head()"
   ]
  },
  {
   "cell_type": "code",
   "execution_count": 3,
   "id": "1cab3183",
   "metadata": {
    "execution": {
     "iopub.execute_input": "2021-10-14T18:52:10.661052Z",
     "iopub.status.busy": "2021-10-14T18:52:10.660298Z",
     "iopub.status.idle": "2021-10-14T18:52:10.664406Z",
     "shell.execute_reply": "2021-10-14T18:52:10.663883Z",
     "shell.execute_reply.started": "2021-10-14T17:49:18.087190Z"
    },
    "papermill": {
     "duration": 0.054164,
     "end_time": "2021-10-14T18:52:10.664562",
     "exception": false,
     "start_time": "2021-10-14T18:52:10.610398",
     "status": "completed"
    },
    "tags": []
   },
   "outputs": [
    {
     "data": {
      "text/plain": [
       "(51717, 17)"
      ]
     },
     "execution_count": 3,
     "metadata": {},
     "output_type": "execute_result"
    }
   ],
   "source": [
    "df.shape"
   ]
  },
  {
   "cell_type": "code",
   "execution_count": 4,
   "id": "5d394146",
   "metadata": {
    "execution": {
     "iopub.execute_input": "2021-10-14T18:52:10.819548Z",
     "iopub.status.busy": "2021-10-14T18:52:10.818814Z",
     "iopub.status.idle": "2021-10-14T18:52:10.821935Z",
     "shell.execute_reply": "2021-10-14T18:52:10.822527Z",
     "shell.execute_reply.started": "2021-10-14T17:49:18.095038Z"
    },
    "papermill": {
     "duration": 0.052415,
     "end_time": "2021-10-14T18:52:10.822728",
     "exception": false,
     "start_time": "2021-10-14T18:52:10.770313",
     "status": "completed"
    },
    "tags": []
   },
   "outputs": [
    {
     "data": {
      "text/plain": [
       "Index(['url', 'address', 'name', 'online_order', 'book_table', 'rate', 'votes',\n",
       "       'phone', 'location', 'rest_type', 'dish_liked', 'cuisines',\n",
       "       'approx_cost(for two people)', 'reviews_list', 'menu_item',\n",
       "       'listed_in(type)', 'listed_in(city)'],\n",
       "      dtype='object')"
      ]
     },
     "execution_count": 4,
     "metadata": {},
     "output_type": "execute_result"
    }
   ],
   "source": [
    "df.columns"
   ]
  },
  {
   "cell_type": "code",
   "execution_count": 5,
   "id": "73bad089",
   "metadata": {
    "execution": {
     "iopub.execute_input": "2021-10-14T18:52:10.938051Z",
     "iopub.status.busy": "2021-10-14T18:52:10.921625Z",
     "iopub.status.idle": "2021-10-14T18:52:10.941242Z",
     "shell.execute_reply": "2021-10-14T18:52:10.940589Z",
     "shell.execute_reply.started": "2021-10-14T17:49:18.116783Z"
    },
    "papermill": {
     "duration": 0.074912,
     "end_time": "2021-10-14T18:52:10.941387",
     "exception": false,
     "start_time": "2021-10-14T18:52:10.866475",
     "status": "completed"
    },
    "tags": []
   },
   "outputs": [
    {
     "data": {
      "text/html": [
       "<div>\n",
       "<style scoped>\n",
       "    .dataframe tbody tr th:only-of-type {\n",
       "        vertical-align: middle;\n",
       "    }\n",
       "\n",
       "    .dataframe tbody tr th {\n",
       "        vertical-align: top;\n",
       "    }\n",
       "\n",
       "    .dataframe thead th {\n",
       "        text-align: right;\n",
       "    }\n",
       "</style>\n",
       "<table border=\"1\" class=\"dataframe\">\n",
       "  <thead>\n",
       "    <tr style=\"text-align: right;\">\n",
       "      <th></th>\n",
       "      <th>name</th>\n",
       "      <th>online_order</th>\n",
       "      <th>book_table</th>\n",
       "      <th>rate</th>\n",
       "      <th>votes</th>\n",
       "      <th>location</th>\n",
       "      <th>rest_type</th>\n",
       "      <th>cuisines</th>\n",
       "      <th>approx_cost(for two people)</th>\n",
       "      <th>listed_in(type)</th>\n",
       "      <th>listed_in(city)</th>\n",
       "    </tr>\n",
       "  </thead>\n",
       "  <tbody>\n",
       "    <tr>\n",
       "      <th>0</th>\n",
       "      <td>Jalsa</td>\n",
       "      <td>Yes</td>\n",
       "      <td>Yes</td>\n",
       "      <td>4.1/5</td>\n",
       "      <td>775</td>\n",
       "      <td>Banashankari</td>\n",
       "      <td>Casual Dining</td>\n",
       "      <td>North Indian, Mughlai, Chinese</td>\n",
       "      <td>800</td>\n",
       "      <td>Buffet</td>\n",
       "      <td>Banashankari</td>\n",
       "    </tr>\n",
       "    <tr>\n",
       "      <th>1</th>\n",
       "      <td>Spice Elephant</td>\n",
       "      <td>Yes</td>\n",
       "      <td>No</td>\n",
       "      <td>4.1/5</td>\n",
       "      <td>787</td>\n",
       "      <td>Banashankari</td>\n",
       "      <td>Casual Dining</td>\n",
       "      <td>Chinese, North Indian, Thai</td>\n",
       "      <td>800</td>\n",
       "      <td>Buffet</td>\n",
       "      <td>Banashankari</td>\n",
       "    </tr>\n",
       "    <tr>\n",
       "      <th>2</th>\n",
       "      <td>San Churro Cafe</td>\n",
       "      <td>Yes</td>\n",
       "      <td>No</td>\n",
       "      <td>3.8/5</td>\n",
       "      <td>918</td>\n",
       "      <td>Banashankari</td>\n",
       "      <td>Cafe, Casual Dining</td>\n",
       "      <td>Cafe, Mexican, Italian</td>\n",
       "      <td>800</td>\n",
       "      <td>Buffet</td>\n",
       "      <td>Banashankari</td>\n",
       "    </tr>\n",
       "    <tr>\n",
       "      <th>3</th>\n",
       "      <td>Addhuri Udupi Bhojana</td>\n",
       "      <td>No</td>\n",
       "      <td>No</td>\n",
       "      <td>3.7/5</td>\n",
       "      <td>88</td>\n",
       "      <td>Banashankari</td>\n",
       "      <td>Quick Bites</td>\n",
       "      <td>South Indian, North Indian</td>\n",
       "      <td>300</td>\n",
       "      <td>Buffet</td>\n",
       "      <td>Banashankari</td>\n",
       "    </tr>\n",
       "    <tr>\n",
       "      <th>4</th>\n",
       "      <td>Grand Village</td>\n",
       "      <td>No</td>\n",
       "      <td>No</td>\n",
       "      <td>3.8/5</td>\n",
       "      <td>166</td>\n",
       "      <td>Basavanagudi</td>\n",
       "      <td>Casual Dining</td>\n",
       "      <td>North Indian, Rajasthani</td>\n",
       "      <td>600</td>\n",
       "      <td>Buffet</td>\n",
       "      <td>Banashankari</td>\n",
       "    </tr>\n",
       "  </tbody>\n",
       "</table>\n",
       "</div>"
      ],
      "text/plain": [
       "                    name online_order book_table   rate  votes      location  \\\n",
       "0                  Jalsa          Yes        Yes  4.1/5    775  Banashankari   \n",
       "1         Spice Elephant          Yes         No  4.1/5    787  Banashankari   \n",
       "2        San Churro Cafe          Yes         No  3.8/5    918  Banashankari   \n",
       "3  Addhuri Udupi Bhojana           No         No  3.7/5     88  Banashankari   \n",
       "4          Grand Village           No         No  3.8/5    166  Basavanagudi   \n",
       "\n",
       "             rest_type                        cuisines  \\\n",
       "0        Casual Dining  North Indian, Mughlai, Chinese   \n",
       "1        Casual Dining     Chinese, North Indian, Thai   \n",
       "2  Cafe, Casual Dining          Cafe, Mexican, Italian   \n",
       "3          Quick Bites      South Indian, North Indian   \n",
       "4        Casual Dining        North Indian, Rajasthani   \n",
       "\n",
       "  approx_cost(for two people) listed_in(type) listed_in(city)  \n",
       "0                         800          Buffet    Banashankari  \n",
       "1                         800          Buffet    Banashankari  \n",
       "2                         800          Buffet    Banashankari  \n",
       "3                         300          Buffet    Banashankari  \n",
       "4                         600          Buffet    Banashankari  "
      ]
     },
     "execution_count": 5,
     "metadata": {},
     "output_type": "execute_result"
    }
   ],
   "source": [
    "df=df.drop(['url', 'address','phone','menu_item','dish_liked','reviews_list'],axis=1)\n",
    "df.head()"
   ]
  },
  {
   "cell_type": "code",
   "execution_count": 6,
   "id": "0b6e7cd4",
   "metadata": {
    "execution": {
     "iopub.execute_input": "2021-10-14T18:52:11.036860Z",
     "iopub.status.busy": "2021-10-14T18:52:11.036108Z",
     "iopub.status.idle": "2021-10-14T18:52:11.113242Z",
     "shell.execute_reply": "2021-10-14T18:52:11.113826Z",
     "shell.execute_reply.started": "2021-10-14T17:49:18.143853Z"
    },
    "papermill": {
     "duration": 0.127116,
     "end_time": "2021-10-14T18:52:11.114027",
     "exception": false,
     "start_time": "2021-10-14T18:52:10.986911",
     "status": "completed"
    },
    "tags": []
   },
   "outputs": [
    {
     "name": "stdout",
     "output_type": "stream",
     "text": [
      "<class 'pandas.core.frame.DataFrame'>\n",
      "RangeIndex: 51717 entries, 0 to 51716\n",
      "Data columns (total 11 columns):\n",
      " #   Column                       Non-Null Count  Dtype \n",
      "---  ------                       --------------  ----- \n",
      " 0   name                         51717 non-null  object\n",
      " 1   online_order                 51717 non-null  object\n",
      " 2   book_table                   51717 non-null  object\n",
      " 3   rate                         43942 non-null  object\n",
      " 4   votes                        51717 non-null  int64 \n",
      " 5   location                     51696 non-null  object\n",
      " 6   rest_type                    51490 non-null  object\n",
      " 7   cuisines                     51672 non-null  object\n",
      " 8   approx_cost(for two people)  51371 non-null  object\n",
      " 9   listed_in(type)              51717 non-null  object\n",
      " 10  listed_in(city)              51717 non-null  object\n",
      "dtypes: int64(1), object(10)\n",
      "memory usage: 4.3+ MB\n"
     ]
    }
   ],
   "source": [
    "df.info()"
   ]
  },
  {
   "cell_type": "markdown",
   "id": "105dd9d5",
   "metadata": {
    "papermill": {
     "duration": 0.044858,
     "end_time": "2021-10-14T18:52:11.203480",
     "exception": false,
     "start_time": "2021-10-14T18:52:11.158622",
     "status": "completed"
    },
    "tags": []
   },
   "source": [
    "Duplicate"
   ]
  },
  {
   "cell_type": "code",
   "execution_count": 7,
   "id": "96ad67b1",
   "metadata": {
    "execution": {
     "iopub.execute_input": "2021-10-14T18:52:11.304135Z",
     "iopub.status.busy": "2021-10-14T18:52:11.303380Z",
     "iopub.status.idle": "2021-10-14T18:52:11.378061Z",
     "shell.execute_reply": "2021-10-14T18:52:11.377475Z",
     "shell.execute_reply.started": "2021-10-14T17:49:18.214876Z"
    },
    "papermill": {
     "duration": 0.127507,
     "end_time": "2021-10-14T18:52:11.378213",
     "exception": false,
     "start_time": "2021-10-14T18:52:11.250706",
     "status": "completed"
    },
    "tags": []
   },
   "outputs": [
    {
     "data": {
      "text/plain": [
       "(51609, 11)"
      ]
     },
     "execution_count": 7,
     "metadata": {},
     "output_type": "execute_result"
    }
   ],
   "source": [
    "df.drop_duplicates(inplace=True)\n",
    "df.shape"
   ]
  },
  {
   "cell_type": "markdown",
   "id": "abb3e5c7",
   "metadata": {
    "papermill": {
     "duration": 0.044686,
     "end_time": "2021-10-14T18:52:11.467730",
     "exception": false,
     "start_time": "2021-10-14T18:52:11.423044",
     "status": "completed"
    },
    "tags": []
   },
   "source": [
    "CLEANING RATE"
   ]
  },
  {
   "cell_type": "code",
   "execution_count": 8,
   "id": "8148a5ef",
   "metadata": {
    "execution": {
     "iopub.execute_input": "2021-10-14T18:52:11.572923Z",
     "iopub.status.busy": "2021-10-14T18:52:11.572164Z",
     "iopub.status.idle": "2021-10-14T18:52:11.575521Z",
     "shell.execute_reply": "2021-10-14T18:52:11.574919Z",
     "shell.execute_reply.started": "2021-10-14T17:49:18.293900Z"
    },
    "papermill": {
     "duration": 0.061318,
     "end_time": "2021-10-14T18:52:11.575678",
     "exception": false,
     "start_time": "2021-10-14T18:52:11.514360",
     "status": "completed"
    },
    "tags": []
   },
   "outputs": [
    {
     "data": {
      "text/plain": [
       "array(['4.1/5', '3.8/5', '3.7/5', '3.6/5', '4.6/5', '4.0/5', '4.2/5',\n",
       "       '3.9/5', '3.1/5', '3.0/5', '3.2/5', '3.3/5', '2.8/5', '4.4/5',\n",
       "       '4.3/5', 'NEW', '2.9/5', '3.5/5', nan, '2.6/5', '3.8 /5', '3.4/5',\n",
       "       '4.5/5', '2.5/5', '2.7/5', '4.7/5', '2.4/5', '2.2/5', '2.3/5',\n",
       "       '3.4 /5', '-', '3.6 /5', '4.8/5', '3.9 /5', '4.2 /5', '4.0 /5',\n",
       "       '4.1 /5', '3.7 /5', '3.1 /5', '2.9 /5', '3.3 /5', '2.8 /5',\n",
       "       '3.5 /5', '2.7 /5', '2.5 /5', '3.2 /5', '2.6 /5', '4.5 /5',\n",
       "       '4.3 /5', '4.4 /5', '4.9/5', '2.1/5', '2.0/5', '1.8/5', '4.6 /5',\n",
       "       '4.9 /5', '3.0 /5', '4.8 /5', '2.3 /5', '4.7 /5', '2.4 /5',\n",
       "       '2.1 /5', '2.2 /5', '2.0 /5', '1.8 /5'], dtype=object)"
      ]
     },
     "execution_count": 8,
     "metadata": {},
     "output_type": "execute_result"
    }
   ],
   "source": [
    "df['rate'].unique()"
   ]
  },
  {
   "cell_type": "markdown",
   "id": "bb2d0cdc",
   "metadata": {
    "papermill": {
     "duration": 0.045608,
     "end_time": "2021-10-14T18:52:11.667059",
     "exception": false,
     "start_time": "2021-10-14T18:52:11.621451",
     "status": "completed"
    },
    "tags": []
   },
   "source": [
    "REMOVING NEW,-, AND /5"
   ]
  },
  {
   "cell_type": "code",
   "execution_count": 9,
   "id": "c5b23276",
   "metadata": {
    "execution": {
     "iopub.execute_input": "2021-10-14T18:52:11.774317Z",
     "iopub.status.busy": "2021-10-14T18:52:11.763822Z",
     "iopub.status.idle": "2021-10-14T18:52:11.835711Z",
     "shell.execute_reply": "2021-10-14T18:52:11.835068Z",
     "shell.execute_reply.started": "2021-10-14T17:49:18.308005Z"
    },
    "papermill": {
     "duration": 0.123552,
     "end_time": "2021-10-14T18:52:11.835855",
     "exception": false,
     "start_time": "2021-10-14T18:52:11.712303",
     "status": "completed"
    },
    "tags": []
   },
   "outputs": [
    {
     "data": {
      "text/plain": [
       "0    4.1\n",
       "1    4.1\n",
       "2    3.8\n",
       "3    3.7\n",
       "4    3.8\n",
       "Name: rate, dtype: float64"
      ]
     },
     "execution_count": 9,
     "metadata": {},
     "output_type": "execute_result"
    }
   ],
   "source": [
    "def repair_rate(value):\n",
    "    if(value=='NEW' or value=='-'):\n",
    "        return np.nan\n",
    "    else:\n",
    "        value = str(value).split('/')\n",
    "        value = value[0]\n",
    "        return float(value)\n",
    "    \n",
    "df['rate'] = df['rate'].apply(repair_rate)\n",
    "df['rate'].head()"
   ]
  },
  {
   "cell_type": "code",
   "execution_count": 10,
   "id": "984e4b54",
   "metadata": {
    "execution": {
     "iopub.execute_input": "2021-10-14T18:52:11.933891Z",
     "iopub.status.busy": "2021-10-14T18:52:11.933152Z",
     "iopub.status.idle": "2021-10-14T18:52:11.936695Z",
     "shell.execute_reply": "2021-10-14T18:52:11.936040Z",
     "shell.execute_reply.started": "2021-10-14T17:49:18.385963Z"
    },
    "papermill": {
     "duration": 0.055052,
     "end_time": "2021-10-14T18:52:11.936849",
     "exception": false,
     "start_time": "2021-10-14T18:52:11.881797",
     "status": "completed"
    },
    "tags": []
   },
   "outputs": [
    {
     "data": {
      "text/plain": [
       "10019"
      ]
     },
     "execution_count": 10,
     "metadata": {},
     "output_type": "execute_result"
    }
   ],
   "source": [
    "df.rate.isnull().sum()"
   ]
  },
  {
   "cell_type": "markdown",
   "id": "4169f251",
   "metadata": {
    "papermill": {
     "duration": 0.046125,
     "end_time": "2021-10-14T18:52:12.028874",
     "exception": false,
     "start_time": "2021-10-14T18:52:11.982749",
     "status": "completed"
    },
    "tags": []
   },
   "source": [
    "REMOVE NULL IN RATE"
   ]
  },
  {
   "cell_type": "code",
   "execution_count": 11,
   "id": "5cbb238d",
   "metadata": {
    "execution": {
     "iopub.execute_input": "2021-10-14T18:52:12.129925Z",
     "iopub.status.busy": "2021-10-14T18:52:12.129179Z",
     "iopub.status.idle": "2021-10-14T18:52:12.135331Z",
     "shell.execute_reply": "2021-10-14T18:52:12.134681Z",
     "shell.execute_reply.started": "2021-10-14T17:49:18.394582Z"
    },
    "papermill": {
     "duration": 0.059583,
     "end_time": "2021-10-14T18:52:12.135586",
     "exception": false,
     "start_time": "2021-10-14T18:52:12.076003",
     "status": "completed"
    },
    "tags": []
   },
   "outputs": [
    {
     "data": {
      "text/plain": [
       "0"
      ]
     },
     "execution_count": 11,
     "metadata": {},
     "output_type": "execute_result"
    }
   ],
   "source": [
    "df['rate'].fillna(df['rate'].mean(),inplace=True)\n",
    "df['rate'].isnull().sum()"
   ]
  },
  {
   "cell_type": "code",
   "execution_count": 12,
   "id": "612b8c1f",
   "metadata": {
    "execution": {
     "iopub.execute_input": "2021-10-14T18:52:12.235002Z",
     "iopub.status.busy": "2021-10-14T18:52:12.234285Z",
     "iopub.status.idle": "2021-10-14T18:52:12.297008Z",
     "shell.execute_reply": "2021-10-14T18:52:12.297776Z",
     "shell.execute_reply.started": "2021-10-14T17:49:18.409705Z"
    },
    "papermill": {
     "duration": 0.114714,
     "end_time": "2021-10-14T18:52:12.297960",
     "exception": false,
     "start_time": "2021-10-14T18:52:12.183246",
     "status": "completed"
    },
    "tags": []
   },
   "outputs": [
    {
     "name": "stdout",
     "output_type": "stream",
     "text": [
      "<class 'pandas.core.frame.DataFrame'>\n",
      "Int64Index: 51609 entries, 0 to 51716\n",
      "Data columns (total 11 columns):\n",
      " #   Column                       Non-Null Count  Dtype  \n",
      "---  ------                       --------------  -----  \n",
      " 0   name                         51609 non-null  object \n",
      " 1   online_order                 51609 non-null  object \n",
      " 2   book_table                   51609 non-null  object \n",
      " 3   rate                         51609 non-null  float64\n",
      " 4   votes                        51609 non-null  int64  \n",
      " 5   location                     51588 non-null  object \n",
      " 6   rest_type                    51382 non-null  object \n",
      " 7   cuisines                     51564 non-null  object \n",
      " 8   approx_cost(for two people)  51265 non-null  object \n",
      " 9   listed_in(type)              51609 non-null  object \n",
      " 10  listed_in(city)              51609 non-null  object \n",
      "dtypes: float64(1), int64(1), object(9)\n",
      "memory usage: 4.7+ MB\n"
     ]
    }
   ],
   "source": [
    "df.info()"
   ]
  },
  {
   "cell_type": "code",
   "execution_count": 13,
   "id": "86d539b5",
   "metadata": {
    "execution": {
     "iopub.execute_input": "2021-10-14T18:52:12.395208Z",
     "iopub.status.busy": "2021-10-14T18:52:12.394223Z",
     "iopub.status.idle": "2021-10-14T18:52:12.469625Z",
     "shell.execute_reply": "2021-10-14T18:52:12.470139Z",
     "shell.execute_reply.started": "2021-10-14T17:49:18.474539Z"
    },
    "papermill": {
     "duration": 0.125651,
     "end_time": "2021-10-14T18:52:12.470308",
     "exception": false,
     "start_time": "2021-10-14T18:52:12.344657",
     "status": "completed"
    },
    "tags": []
   },
   "outputs": [
    {
     "data": {
      "text/html": [
       "<div>\n",
       "<style scoped>\n",
       "    .dataframe tbody tr th:only-of-type {\n",
       "        vertical-align: middle;\n",
       "    }\n",
       "\n",
       "    .dataframe tbody tr th {\n",
       "        vertical-align: top;\n",
       "    }\n",
       "\n",
       "    .dataframe thead th {\n",
       "        text-align: right;\n",
       "    }\n",
       "</style>\n",
       "<table border=\"1\" class=\"dataframe\">\n",
       "  <thead>\n",
       "    <tr style=\"text-align: right;\">\n",
       "      <th></th>\n",
       "      <th>name</th>\n",
       "      <th>online_order</th>\n",
       "      <th>book_table</th>\n",
       "      <th>rate</th>\n",
       "      <th>votes</th>\n",
       "      <th>location</th>\n",
       "      <th>rest_type</th>\n",
       "      <th>cuisines</th>\n",
       "      <th>approx_cost(for two people)</th>\n",
       "      <th>listed_in(type)</th>\n",
       "      <th>listed_in(city)</th>\n",
       "    </tr>\n",
       "  </thead>\n",
       "  <tbody>\n",
       "    <tr>\n",
       "      <th>0</th>\n",
       "      <td>Jalsa</td>\n",
       "      <td>Yes</td>\n",
       "      <td>Yes</td>\n",
       "      <td>4.1</td>\n",
       "      <td>775</td>\n",
       "      <td>Banashankari</td>\n",
       "      <td>Casual Dining</td>\n",
       "      <td>North Indian, Mughlai, Chinese</td>\n",
       "      <td>800</td>\n",
       "      <td>Buffet</td>\n",
       "      <td>Banashankari</td>\n",
       "    </tr>\n",
       "    <tr>\n",
       "      <th>1</th>\n",
       "      <td>Spice Elephant</td>\n",
       "      <td>Yes</td>\n",
       "      <td>No</td>\n",
       "      <td>4.1</td>\n",
       "      <td>787</td>\n",
       "      <td>Banashankari</td>\n",
       "      <td>Casual Dining</td>\n",
       "      <td>Chinese, North Indian, Thai</td>\n",
       "      <td>800</td>\n",
       "      <td>Buffet</td>\n",
       "      <td>Banashankari</td>\n",
       "    </tr>\n",
       "    <tr>\n",
       "      <th>2</th>\n",
       "      <td>San Churro Cafe</td>\n",
       "      <td>Yes</td>\n",
       "      <td>No</td>\n",
       "      <td>3.8</td>\n",
       "      <td>918</td>\n",
       "      <td>Banashankari</td>\n",
       "      <td>Cafe, Casual Dining</td>\n",
       "      <td>Cafe, Mexican, Italian</td>\n",
       "      <td>800</td>\n",
       "      <td>Buffet</td>\n",
       "      <td>Banashankari</td>\n",
       "    </tr>\n",
       "    <tr>\n",
       "      <th>3</th>\n",
       "      <td>Addhuri Udupi Bhojana</td>\n",
       "      <td>No</td>\n",
       "      <td>No</td>\n",
       "      <td>3.7</td>\n",
       "      <td>88</td>\n",
       "      <td>Banashankari</td>\n",
       "      <td>Quick Bites</td>\n",
       "      <td>South Indian, North Indian</td>\n",
       "      <td>300</td>\n",
       "      <td>Buffet</td>\n",
       "      <td>Banashankari</td>\n",
       "    </tr>\n",
       "    <tr>\n",
       "      <th>4</th>\n",
       "      <td>Grand Village</td>\n",
       "      <td>No</td>\n",
       "      <td>No</td>\n",
       "      <td>3.8</td>\n",
       "      <td>166</td>\n",
       "      <td>Basavanagudi</td>\n",
       "      <td>Casual Dining</td>\n",
       "      <td>North Indian, Rajasthani</td>\n",
       "      <td>600</td>\n",
       "      <td>Buffet</td>\n",
       "      <td>Banashankari</td>\n",
       "    </tr>\n",
       "  </tbody>\n",
       "</table>\n",
       "</div>"
      ],
      "text/plain": [
       "                    name online_order book_table  rate  votes      location  \\\n",
       "0                  Jalsa          Yes        Yes   4.1    775  Banashankari   \n",
       "1         Spice Elephant          Yes         No   4.1    787  Banashankari   \n",
       "2        San Churro Cafe          Yes         No   3.8    918  Banashankari   \n",
       "3  Addhuri Udupi Bhojana           No         No   3.7     88  Banashankari   \n",
       "4          Grand Village           No         No   3.8    166  Basavanagudi   \n",
       "\n",
       "             rest_type                        cuisines  \\\n",
       "0        Casual Dining  North Indian, Mughlai, Chinese   \n",
       "1        Casual Dining     Chinese, North Indian, Thai   \n",
       "2  Cafe, Casual Dining          Cafe, Mexican, Italian   \n",
       "3          Quick Bites      South Indian, North Indian   \n",
       "4        Casual Dining        North Indian, Rajasthani   \n",
       "\n",
       "  approx_cost(for two people) listed_in(type) listed_in(city)  \n",
       "0                         800          Buffet    Banashankari  \n",
       "1                         800          Buffet    Banashankari  \n",
       "2                         800          Buffet    Banashankari  \n",
       "3                         300          Buffet    Banashankari  \n",
       "4                         600          Buffet    Banashankari  "
      ]
     },
     "execution_count": 13,
     "metadata": {},
     "output_type": "execute_result"
    }
   ],
   "source": [
    "df.dropna(inplace=True)\n",
    "df.head()"
   ]
  },
  {
   "cell_type": "code",
   "execution_count": 14,
   "id": "78f8aafa",
   "metadata": {
    "execution": {
     "iopub.execute_input": "2021-10-14T18:52:12.583855Z",
     "iopub.status.busy": "2021-10-14T18:52:12.583121Z",
     "iopub.status.idle": "2021-10-14T18:52:12.587096Z",
     "shell.execute_reply": "2021-10-14T18:52:12.586394Z",
     "shell.execute_reply.started": "2021-10-14T17:49:18.551187Z"
    },
    "papermill": {
     "duration": 0.06895,
     "end_time": "2021-10-14T18:52:12.587247",
     "exception": false,
     "start_time": "2021-10-14T18:52:12.518297",
     "status": "completed"
    },
    "tags": []
   },
   "outputs": [
    {
     "data": {
      "text/html": [
       "<div>\n",
       "<style scoped>\n",
       "    .dataframe tbody tr th:only-of-type {\n",
       "        vertical-align: middle;\n",
       "    }\n",
       "\n",
       "    .dataframe tbody tr th {\n",
       "        vertical-align: top;\n",
       "    }\n",
       "\n",
       "    .dataframe thead th {\n",
       "        text-align: right;\n",
       "    }\n",
       "</style>\n",
       "<table border=\"1\" class=\"dataframe\">\n",
       "  <thead>\n",
       "    <tr style=\"text-align: right;\">\n",
       "      <th></th>\n",
       "      <th>name</th>\n",
       "      <th>online_order</th>\n",
       "      <th>book_table</th>\n",
       "      <th>rate</th>\n",
       "      <th>votes</th>\n",
       "      <th>location</th>\n",
       "      <th>rest_type</th>\n",
       "      <th>cuisines</th>\n",
       "      <th>2pcost</th>\n",
       "      <th>type</th>\n",
       "      <th>listed_in(city)</th>\n",
       "    </tr>\n",
       "  </thead>\n",
       "  <tbody>\n",
       "    <tr>\n",
       "      <th>0</th>\n",
       "      <td>Jalsa</td>\n",
       "      <td>Yes</td>\n",
       "      <td>Yes</td>\n",
       "      <td>4.1</td>\n",
       "      <td>775</td>\n",
       "      <td>Banashankari</td>\n",
       "      <td>Casual Dining</td>\n",
       "      <td>North Indian, Mughlai, Chinese</td>\n",
       "      <td>800</td>\n",
       "      <td>Buffet</td>\n",
       "      <td>Banashankari</td>\n",
       "    </tr>\n",
       "    <tr>\n",
       "      <th>1</th>\n",
       "      <td>Spice Elephant</td>\n",
       "      <td>Yes</td>\n",
       "      <td>No</td>\n",
       "      <td>4.1</td>\n",
       "      <td>787</td>\n",
       "      <td>Banashankari</td>\n",
       "      <td>Casual Dining</td>\n",
       "      <td>Chinese, North Indian, Thai</td>\n",
       "      <td>800</td>\n",
       "      <td>Buffet</td>\n",
       "      <td>Banashankari</td>\n",
       "    </tr>\n",
       "    <tr>\n",
       "      <th>2</th>\n",
       "      <td>San Churro Cafe</td>\n",
       "      <td>Yes</td>\n",
       "      <td>No</td>\n",
       "      <td>3.8</td>\n",
       "      <td>918</td>\n",
       "      <td>Banashankari</td>\n",
       "      <td>Cafe, Casual Dining</td>\n",
       "      <td>Cafe, Mexican, Italian</td>\n",
       "      <td>800</td>\n",
       "      <td>Buffet</td>\n",
       "      <td>Banashankari</td>\n",
       "    </tr>\n",
       "    <tr>\n",
       "      <th>3</th>\n",
       "      <td>Addhuri Udupi Bhojana</td>\n",
       "      <td>No</td>\n",
       "      <td>No</td>\n",
       "      <td>3.7</td>\n",
       "      <td>88</td>\n",
       "      <td>Banashankari</td>\n",
       "      <td>Quick Bites</td>\n",
       "      <td>South Indian, North Indian</td>\n",
       "      <td>300</td>\n",
       "      <td>Buffet</td>\n",
       "      <td>Banashankari</td>\n",
       "    </tr>\n",
       "    <tr>\n",
       "      <th>4</th>\n",
       "      <td>Grand Village</td>\n",
       "      <td>No</td>\n",
       "      <td>No</td>\n",
       "      <td>3.8</td>\n",
       "      <td>166</td>\n",
       "      <td>Basavanagudi</td>\n",
       "      <td>Casual Dining</td>\n",
       "      <td>North Indian, Rajasthani</td>\n",
       "      <td>600</td>\n",
       "      <td>Buffet</td>\n",
       "      <td>Banashankari</td>\n",
       "    </tr>\n",
       "  </tbody>\n",
       "</table>\n",
       "</div>"
      ],
      "text/plain": [
       "                    name online_order book_table  rate  votes      location  \\\n",
       "0                  Jalsa          Yes        Yes   4.1    775  Banashankari   \n",
       "1         Spice Elephant          Yes         No   4.1    787  Banashankari   \n",
       "2        San Churro Cafe          Yes         No   3.8    918  Banashankari   \n",
       "3  Addhuri Udupi Bhojana           No         No   3.7     88  Banashankari   \n",
       "4          Grand Village           No         No   3.8    166  Basavanagudi   \n",
       "\n",
       "             rest_type                        cuisines 2pcost    type  \\\n",
       "0        Casual Dining  North Indian, Mughlai, Chinese    800  Buffet   \n",
       "1        Casual Dining     Chinese, North Indian, Thai    800  Buffet   \n",
       "2  Cafe, Casual Dining          Cafe, Mexican, Italian    800  Buffet   \n",
       "3          Quick Bites      South Indian, North Indian    300  Buffet   \n",
       "4        Casual Dining        North Indian, Rajasthani    600  Buffet   \n",
       "\n",
       "  listed_in(city)  \n",
       "0    Banashankari  \n",
       "1    Banashankari  \n",
       "2    Banashankari  \n",
       "3    Banashankari  \n",
       "4    Banashankari  "
      ]
     },
     "execution_count": 14,
     "metadata": {},
     "output_type": "execute_result"
    }
   ],
   "source": [
    "df.rename(columns={'approx_cost(for two people)':'2pcost','listed_in(type)':'type'},inplace=True)\n",
    "df.head()"
   ]
  },
  {
   "cell_type": "code",
   "execution_count": 15,
   "id": "08ac9fa7",
   "metadata": {
    "execution": {
     "iopub.execute_input": "2021-10-14T18:52:12.693430Z",
     "iopub.status.busy": "2021-10-14T18:52:12.692779Z",
     "iopub.status.idle": "2021-10-14T18:52:12.700411Z",
     "shell.execute_reply": "2021-10-14T18:52:12.699790Z",
     "shell.execute_reply.started": "2021-10-14T17:49:18.570083Z"
    },
    "papermill": {
     "duration": 0.064581,
     "end_time": "2021-10-14T18:52:12.700564",
     "exception": false,
     "start_time": "2021-10-14T18:52:12.635983",
     "status": "completed"
    },
    "tags": []
   },
   "outputs": [
    {
     "data": {
      "text/plain": [
       "array(['Banashankari', 'Basavanagudi', 'Mysore Road', 'Jayanagar',\n",
       "       'Kumaraswamy Layout', 'Rajarajeshwari Nagar', 'Vijay Nagar',\n",
       "       'Uttarahalli', 'JP Nagar', 'South Bangalore', 'City Market',\n",
       "       'Nagarbhavi', 'Bannerghatta Road', 'BTM', 'Kanakapura Road',\n",
       "       'Bommanahalli', 'CV Raman Nagar', 'Electronic City', 'HSR',\n",
       "       'Marathahalli', 'Wilson Garden', 'Shanti Nagar',\n",
       "       'Koramangala 5th Block', 'Koramangala 8th Block', 'Richmond Road',\n",
       "       'Koramangala 7th Block', 'Jalahalli', 'Koramangala 4th Block',\n",
       "       'Bellandur', 'Sarjapur Road', 'Whitefield', 'East Bangalore',\n",
       "       'Old Airport Road', 'Indiranagar', 'Koramangala 1st Block',\n",
       "       'Frazer Town', 'RT Nagar', 'MG Road', 'Brigade Road',\n",
       "       'Lavelle Road', 'Church Street', 'Ulsoor', 'Residency Road',\n",
       "       'Shivajinagar', 'Infantry Road', 'St. Marks Road',\n",
       "       'Cunningham Road', 'Race Course Road', 'Commercial Street',\n",
       "       'Vasanth Nagar', 'HBR Layout', 'Domlur', 'Ejipura',\n",
       "       'Jeevan Bhima Nagar', 'Old Madras Road', 'Malleshwaram',\n",
       "       'Seshadripuram', 'Kammanahalli', 'Koramangala 6th Block',\n",
       "       'Majestic', 'Langford Town', 'Central Bangalore', 'Sanjay Nagar',\n",
       "       'Brookefield', 'ITPL Main Road, Whitefield',\n",
       "       'Varthur Main Road, Whitefield', 'KR Puram',\n",
       "       'Koramangala 2nd Block', 'Koramangala 3rd Block', 'Koramangala',\n",
       "       'Hosur Road', 'Rajajinagar', 'Banaswadi', 'North Bangalore',\n",
       "       'Nagawara', 'Hennur', 'Kalyan Nagar', 'New BEL Road', 'Jakkur',\n",
       "       'Rammurthy Nagar', 'Thippasandra', 'Kaggadasapura', 'Hebbal',\n",
       "       'Kengeri', 'Sankey Road', 'Sadashiv Nagar', 'Basaveshwara Nagar',\n",
       "       'Yeshwantpur', 'West Bangalore', 'Magadi Road', 'Yelahanka',\n",
       "       'Sahakara Nagar', 'Peenya'], dtype=object)"
      ]
     },
     "execution_count": 15,
     "metadata": {},
     "output_type": "execute_result"
    }
   ],
   "source": [
    "df['location'].unique()"
   ]
  },
  {
   "cell_type": "code",
   "execution_count": 16,
   "id": "233593fb",
   "metadata": {
    "execution": {
     "iopub.execute_input": "2021-10-14T18:52:12.809162Z",
     "iopub.status.busy": "2021-10-14T18:52:12.808450Z",
     "iopub.status.idle": "2021-10-14T18:52:12.811522Z",
     "shell.execute_reply": "2021-10-14T18:52:12.810875Z",
     "shell.execute_reply.started": "2021-10-14T17:50:45.607499Z"
    },
    "papermill": {
     "duration": 0.06143,
     "end_time": "2021-10-14T18:52:12.811683",
     "exception": false,
     "start_time": "2021-10-14T18:52:12.750253",
     "status": "completed"
    },
    "tags": []
   },
   "outputs": [],
   "source": [
    "df.drop(['listed_in(city)'],axis=1,inplace=True)"
   ]
  },
  {
   "cell_type": "code",
   "execution_count": 17,
   "id": "16085132",
   "metadata": {
    "execution": {
     "iopub.execute_input": "2021-10-14T18:52:12.911957Z",
     "iopub.status.busy": "2021-10-14T18:52:12.910992Z",
     "iopub.status.idle": "2021-10-14T18:52:12.921560Z",
     "shell.execute_reply": "2021-10-14T18:52:12.922086Z",
     "shell.execute_reply.started": "2021-10-14T17:50:52.847833Z"
    },
    "papermill": {
     "duration": 0.062486,
     "end_time": "2021-10-14T18:52:12.922268",
     "exception": false,
     "start_time": "2021-10-14T18:52:12.859782",
     "status": "completed"
    },
    "tags": []
   },
   "outputs": [
    {
     "data": {
      "text/plain": [
       "array(['800', '300', '600', '700', '550', '500', '450', '650', '400',\n",
       "       '900', '200', '750', '150', '850', '100', '1,200', '350', '250',\n",
       "       '950', '1,000', '1,500', '1,300', '199', '80', '1,100', '160',\n",
       "       '1,600', '230', '130', '50', '190', '1,700', '1,400', '180',\n",
       "       '1,350', '2,200', '2,000', '1,800', '1,900', '330', '2,500',\n",
       "       '2,100', '3,000', '2,800', '3,400', '40', '1,250', '3,500',\n",
       "       '4,000', '2,400', '2,600', '120', '1,450', '469', '70', '3,200',\n",
       "       '60', '560', '240', '360', '6,000', '1,050', '2,300', '4,100',\n",
       "       '5,000', '3,700', '1,650', '2,700', '4,500', '140'], dtype=object)"
      ]
     },
     "execution_count": 17,
     "metadata": {},
     "output_type": "execute_result"
    }
   ],
   "source": [
    "df['2pcost'].unique()"
   ]
  },
  {
   "cell_type": "code",
   "execution_count": 18,
   "id": "ae88244c",
   "metadata": {
    "execution": {
     "iopub.execute_input": "2021-10-14T18:52:13.024441Z",
     "iopub.status.busy": "2021-10-14T18:52:13.023453Z",
     "iopub.status.idle": "2021-10-14T18:52:13.078159Z",
     "shell.execute_reply": "2021-10-14T18:52:13.078651Z",
     "shell.execute_reply.started": "2021-10-14T17:50:56.437386Z"
    },
    "papermill": {
     "duration": 0.107939,
     "end_time": "2021-10-14T18:52:13.078831",
     "exception": false,
     "start_time": "2021-10-14T18:52:12.970892",
     "status": "completed"
    },
    "tags": []
   },
   "outputs": [
    {
     "data": {
      "text/plain": [
       "0    800.0\n",
       "1    800.0\n",
       "2    800.0\n",
       "3    300.0\n",
       "4    600.0\n",
       "Name: 2pcost, dtype: float64"
      ]
     },
     "execution_count": 18,
     "metadata": {},
     "output_type": "execute_result"
    }
   ],
   "source": [
    "def re_2pcost(value):\n",
    "    value=str(value)\n",
    "    if ',' in value:\n",
    "        value=value.replace(',','')\n",
    "        return float(value)\n",
    "    else:\n",
    "        return float(value)\n",
    "df['2pcost']=df['2pcost'].apply(re_2pcost)\n",
    "df['2pcost'].head()"
   ]
  },
  {
   "cell_type": "code",
   "execution_count": 19,
   "id": "f9e58283",
   "metadata": {
    "execution": {
     "iopub.execute_input": "2021-10-14T18:52:13.181216Z",
     "iopub.status.busy": "2021-10-14T18:52:13.180205Z",
     "iopub.status.idle": "2021-10-14T18:52:13.197206Z",
     "shell.execute_reply": "2021-10-14T18:52:13.196514Z",
     "shell.execute_reply.started": "2021-10-14T17:50:59.486721Z"
    },
    "papermill": {
     "duration": 0.069604,
     "end_time": "2021-10-14T18:52:13.197364",
     "exception": false,
     "start_time": "2021-10-14T18:52:13.127760",
     "status": "completed"
    },
    "tags": []
   },
   "outputs": [
    {
     "data": {
      "text/html": [
       "<div>\n",
       "<style scoped>\n",
       "    .dataframe tbody tr th:only-of-type {\n",
       "        vertical-align: middle;\n",
       "    }\n",
       "\n",
       "    .dataframe tbody tr th {\n",
       "        vertical-align: top;\n",
       "    }\n",
       "\n",
       "    .dataframe thead th {\n",
       "        text-align: right;\n",
       "    }\n",
       "</style>\n",
       "<table border=\"1\" class=\"dataframe\">\n",
       "  <thead>\n",
       "    <tr style=\"text-align: right;\">\n",
       "      <th></th>\n",
       "      <th>name</th>\n",
       "      <th>online_order</th>\n",
       "      <th>book_table</th>\n",
       "      <th>rate</th>\n",
       "      <th>votes</th>\n",
       "      <th>location</th>\n",
       "      <th>rest_type</th>\n",
       "      <th>cuisines</th>\n",
       "      <th>2pcost</th>\n",
       "      <th>type</th>\n",
       "    </tr>\n",
       "  </thead>\n",
       "  <tbody>\n",
       "    <tr>\n",
       "      <th>0</th>\n",
       "      <td>Jalsa</td>\n",
       "      <td>Yes</td>\n",
       "      <td>Yes</td>\n",
       "      <td>4.1</td>\n",
       "      <td>775</td>\n",
       "      <td>Banashankari</td>\n",
       "      <td>Casual Dining</td>\n",
       "      <td>North Indian, Mughlai, Chinese</td>\n",
       "      <td>800.0</td>\n",
       "      <td>Buffet</td>\n",
       "    </tr>\n",
       "    <tr>\n",
       "      <th>1</th>\n",
       "      <td>Spice Elephant</td>\n",
       "      <td>Yes</td>\n",
       "      <td>No</td>\n",
       "      <td>4.1</td>\n",
       "      <td>787</td>\n",
       "      <td>Banashankari</td>\n",
       "      <td>Casual Dining</td>\n",
       "      <td>Chinese, North Indian, Thai</td>\n",
       "      <td>800.0</td>\n",
       "      <td>Buffet</td>\n",
       "    </tr>\n",
       "    <tr>\n",
       "      <th>2</th>\n",
       "      <td>San Churro Cafe</td>\n",
       "      <td>Yes</td>\n",
       "      <td>No</td>\n",
       "      <td>3.8</td>\n",
       "      <td>918</td>\n",
       "      <td>Banashankari</td>\n",
       "      <td>Cafe, Casual Dining</td>\n",
       "      <td>Cafe, Mexican, Italian</td>\n",
       "      <td>800.0</td>\n",
       "      <td>Buffet</td>\n",
       "    </tr>\n",
       "    <tr>\n",
       "      <th>3</th>\n",
       "      <td>Addhuri Udupi Bhojana</td>\n",
       "      <td>No</td>\n",
       "      <td>No</td>\n",
       "      <td>3.7</td>\n",
       "      <td>88</td>\n",
       "      <td>Banashankari</td>\n",
       "      <td>Quick Bites</td>\n",
       "      <td>South Indian, North Indian</td>\n",
       "      <td>300.0</td>\n",
       "      <td>Buffet</td>\n",
       "    </tr>\n",
       "    <tr>\n",
       "      <th>4</th>\n",
       "      <td>Grand Village</td>\n",
       "      <td>No</td>\n",
       "      <td>No</td>\n",
       "      <td>3.8</td>\n",
       "      <td>166</td>\n",
       "      <td>Basavanagudi</td>\n",
       "      <td>Casual Dining</td>\n",
       "      <td>North Indian, Rajasthani</td>\n",
       "      <td>600.0</td>\n",
       "      <td>Buffet</td>\n",
       "    </tr>\n",
       "  </tbody>\n",
       "</table>\n",
       "</div>"
      ],
      "text/plain": [
       "                    name online_order book_table  rate  votes      location  \\\n",
       "0                  Jalsa          Yes        Yes   4.1    775  Banashankari   \n",
       "1         Spice Elephant          Yes         No   4.1    787  Banashankari   \n",
       "2        San Churro Cafe          Yes         No   3.8    918  Banashankari   \n",
       "3  Addhuri Udupi Bhojana           No         No   3.7     88  Banashankari   \n",
       "4          Grand Village           No         No   3.8    166  Basavanagudi   \n",
       "\n",
       "             rest_type                        cuisines  2pcost    type  \n",
       "0        Casual Dining  North Indian, Mughlai, Chinese   800.0  Buffet  \n",
       "1        Casual Dining     Chinese, North Indian, Thai   800.0  Buffet  \n",
       "2  Cafe, Casual Dining          Cafe, Mexican, Italian   800.0  Buffet  \n",
       "3          Quick Bites      South Indian, North Indian   300.0  Buffet  \n",
       "4        Casual Dining        North Indian, Rajasthani   600.0  Buffet  "
      ]
     },
     "execution_count": 19,
     "metadata": {},
     "output_type": "execute_result"
    }
   ],
   "source": [
    "df.head()"
   ]
  },
  {
   "cell_type": "code",
   "execution_count": 20,
   "id": "bda8a08f",
   "metadata": {
    "execution": {
     "iopub.execute_input": "2021-10-14T18:52:13.305997Z",
     "iopub.status.busy": "2021-10-14T18:52:13.304953Z",
     "iopub.status.idle": "2021-10-14T18:52:13.312078Z",
     "shell.execute_reply": "2021-10-14T18:52:13.311491Z",
     "shell.execute_reply.started": "2021-10-14T17:52:18.297813Z"
    },
    "papermill": {
     "duration": 0.064698,
     "end_time": "2021-10-14T18:52:13.312224",
     "exception": false,
     "start_time": "2021-10-14T18:52:13.247526",
     "status": "completed"
    },
    "tags": []
   },
   "outputs": [
    {
     "data": {
      "text/plain": [
       "array(['Casual Dining', 'Cafe, Casual Dining', 'Quick Bites',\n",
       "       'Casual Dining, Cafe', 'Cafe', 'Quick Bites, Cafe',\n",
       "       'Cafe, Quick Bites', 'Delivery', 'Mess', 'Dessert Parlor',\n",
       "       'Bakery, Dessert Parlor', 'Pub', 'Bakery', 'Takeaway, Delivery',\n",
       "       'Fine Dining', 'Beverage Shop', 'Sweet Shop', 'Bar',\n",
       "       'Beverage Shop, Quick Bites', 'Confectionery',\n",
       "       'Quick Bites, Beverage Shop', 'Dessert Parlor, Sweet Shop',\n",
       "       'Bakery, Quick Bites', 'Sweet Shop, Quick Bites', 'Kiosk',\n",
       "       'Food Truck', 'Quick Bites, Dessert Parlor',\n",
       "       'Beverage Shop, Dessert Parlor', 'Takeaway', 'Pub, Casual Dining',\n",
       "       'Casual Dining, Bar', 'Dessert Parlor, Beverage Shop',\n",
       "       'Quick Bites, Bakery', 'Dessert Parlor, Quick Bites',\n",
       "       'Microbrewery, Casual Dining', 'Lounge', 'Bar, Casual Dining',\n",
       "       'Food Court', 'Cafe, Bakery', 'Dhaba', 'Quick Bites, Sweet Shop',\n",
       "       'Microbrewery', 'Food Court, Quick Bites', 'Pub, Bar',\n",
       "       'Casual Dining, Pub', 'Lounge, Bar', 'Food Court, Dessert Parlor',\n",
       "       'Casual Dining, Sweet Shop', 'Food Court, Casual Dining',\n",
       "       'Casual Dining, Microbrewery', 'Sweet Shop, Dessert Parlor',\n",
       "       'Bakery, Beverage Shop', 'Lounge, Casual Dining',\n",
       "       'Cafe, Food Court', 'Beverage Shop, Cafe', 'Cafe, Dessert Parlor',\n",
       "       'Dessert Parlor, Cafe', 'Dessert Parlor, Bakery',\n",
       "       'Microbrewery, Pub', 'Bakery, Food Court', 'Club',\n",
       "       'Quick Bites, Food Court', 'Bakery, Cafe', 'Bar, Cafe',\n",
       "       'Pub, Cafe', 'Casual Dining, Irani Cafee', 'Fine Dining, Lounge',\n",
       "       'Bar, Quick Bites', 'Bakery, Kiosk', 'Pub, Microbrewery',\n",
       "       'Microbrewery, Lounge', 'Fine Dining, Microbrewery',\n",
       "       'Fine Dining, Bar', 'Mess, Quick Bites', 'Dessert Parlor, Kiosk',\n",
       "       'Bhojanalya', 'Casual Dining, Quick Bites', 'Pop Up', 'Cafe, Bar',\n",
       "       'Casual Dining, Lounge', 'Bakery, Sweet Shop', 'Microbrewery, Bar',\n",
       "       'Cafe, Lounge', 'Bar, Pub', 'Lounge, Cafe', 'Club, Casual Dining',\n",
       "       'Quick Bites, Mess', 'Quick Bites, Meat Shop',\n",
       "       'Quick Bites, Kiosk', 'Lounge, Microbrewery',\n",
       "       'Food Court, Beverage Shop', 'Dessert Parlor, Food Court',\n",
       "       'Bar, Lounge'], dtype=object)"
      ]
     },
     "execution_count": 20,
     "metadata": {},
     "output_type": "execute_result"
    }
   ],
   "source": [
    "df['rest_type'].unique()"
   ]
  },
  {
   "cell_type": "code",
   "execution_count": 21,
   "id": "6c50c2e6",
   "metadata": {
    "execution": {
     "iopub.execute_input": "2021-10-14T18:52:13.429032Z",
     "iopub.status.busy": "2021-10-14T18:52:13.428298Z",
     "iopub.status.idle": "2021-10-14T18:52:13.431237Z",
     "shell.execute_reply": "2021-10-14T18:52:13.431770Z",
     "shell.execute_reply.started": "2021-10-14T17:53:25.157233Z"
    },
    "papermill": {
     "duration": 0.068841,
     "end_time": "2021-10-14T18:52:13.431938",
     "exception": false,
     "start_time": "2021-10-14T18:52:13.363097",
     "status": "completed"
    },
    "tags": []
   },
   "outputs": [
    {
     "data": {
      "text/plain": [
       "Quick Bites                   19010\n",
       "Casual Dining                 10253\n",
       "Cafe                           3682\n",
       "Delivery                       2574\n",
       "Dessert Parlor                 2242\n",
       "                              ...  \n",
       "Dessert Parlor, Kiosk             2\n",
       "Food Court, Beverage Shop         2\n",
       "Dessert Parlor, Food Court        2\n",
       "Quick Bites, Kiosk                1\n",
       "Sweet Shop, Dessert Parlor        1\n",
       "Name: rest_type, Length: 93, dtype: int64"
      ]
     },
     "execution_count": 21,
     "metadata": {},
     "output_type": "execute_result"
    }
   ],
   "source": [
    "df['rest_type'].value_counts()"
   ]
  },
  {
   "cell_type": "code",
   "execution_count": 22,
   "id": "742ea53c",
   "metadata": {
    "execution": {
     "iopub.execute_input": "2021-10-14T18:52:13.545823Z",
     "iopub.status.busy": "2021-10-14T18:52:13.545090Z",
     "iopub.status.idle": "2021-10-14T18:52:13.551105Z",
     "shell.execute_reply": "2021-10-14T18:52:13.551594Z",
     "shell.execute_reply.started": "2021-10-14T18:06:15.887721Z"
    },
    "papermill": {
     "duration": 0.069404,
     "end_time": "2021-10-14T18:52:13.551929",
     "exception": false,
     "start_time": "2021-10-14T18:52:13.482525",
     "status": "completed"
    },
    "tags": []
   },
   "outputs": [
    {
     "data": {
      "text/plain": [
       "Quick Bites                   19010\n",
       "Casual Dining                 10253\n",
       "Cafe                           3682\n",
       "Delivery                       2574\n",
       "Dessert Parlor                 2242\n",
       "                              ...  \n",
       "Dessert Parlor, Kiosk             2\n",
       "Food Court, Beverage Shop         2\n",
       "Dessert Parlor, Food Court        2\n",
       "Quick Bites, Kiosk                1\n",
       "Sweet Shop, Dessert Parlor        1\n",
       "Name: rest_type, Length: 93, dtype: int64"
      ]
     },
     "execution_count": 22,
     "metadata": {},
     "output_type": "execute_result"
    }
   ],
   "source": [
    "rest_types=df['rest_type'].value_counts(ascending=False)\n",
    "rest_types"
   ]
  },
  {
   "cell_type": "code",
   "execution_count": 23,
   "id": "180d2bab",
   "metadata": {
    "execution": {
     "iopub.execute_input": "2021-10-14T18:52:13.657380Z",
     "iopub.status.busy": "2021-10-14T18:52:13.656712Z",
     "iopub.status.idle": "2021-10-14T18:52:13.664823Z",
     "shell.execute_reply": "2021-10-14T18:52:13.665317Z",
     "shell.execute_reply.started": "2021-10-14T18:07:38.307731Z"
    },
    "papermill": {
     "duration": 0.062221,
     "end_time": "2021-10-14T18:52:13.665497",
     "exception": false,
     "start_time": "2021-10-14T18:52:13.603276",
     "status": "completed"
    },
    "tags": []
   },
   "outputs": [
    {
     "data": {
      "text/plain": [
       "Beverage Shop                 863\n",
       "Bar                           686\n",
       "Food Court                    616\n",
       "Sweet Shop                    468\n",
       "Bar, Casual Dining            411\n",
       "                             ... \n",
       "Dessert Parlor, Kiosk           2\n",
       "Food Court, Beverage Shop       2\n",
       "Dessert Parlor, Food Court      2\n",
       "Quick Bites, Kiosk              1\n",
       "Sweet Shop, Dessert Parlor      1\n",
       "Name: rest_type, Length: 85, dtype: int64"
      ]
     },
     "execution_count": 23,
     "metadata": {},
     "output_type": "execute_result"
    }
   ],
   "source": [
    "rest_types_lessthan1000=rest_types[rest_types<1000]\n",
    "rest_types_lessthan1000"
   ]
  },
  {
   "cell_type": "code",
   "execution_count": 24,
   "id": "baa1349b",
   "metadata": {
    "execution": {
     "iopub.execute_input": "2021-10-14T18:52:13.778651Z",
     "iopub.status.busy": "2021-10-14T18:52:13.777466Z",
     "iopub.status.idle": "2021-10-14T18:52:13.860129Z",
     "shell.execute_reply": "2021-10-14T18:52:13.859435Z",
     "shell.execute_reply.started": "2021-10-14T18:11:55.967726Z"
    },
    "papermill": {
     "duration": 0.143283,
     "end_time": "2021-10-14T18:52:13.860278",
     "exception": false,
     "start_time": "2021-10-14T18:52:13.716995",
     "status": "completed"
    },
    "tags": []
   },
   "outputs": [
    {
     "data": {
      "text/plain": [
       "0    Casual Dining\n",
       "1    Casual Dining\n",
       "2           others\n",
       "3      Quick Bites\n",
       "4    Casual Dining\n",
       "Name: rest_type, dtype: object"
      ]
     },
     "execution_count": 24,
     "metadata": {},
     "output_type": "execute_result"
    }
   ],
   "source": [
    "def handlerest_type(value):\n",
    "    if(value in rest_types_lessthan1000):\n",
    "        return 'others'\n",
    "    else:\n",
    "        return value\n",
    "df['rest_type']=df['rest_type'].apply(handlerest_type)\n",
    "df['rest_type'].head()"
   ]
  },
  {
   "cell_type": "code",
   "execution_count": 25,
   "id": "34bc8372",
   "metadata": {
    "execution": {
     "iopub.execute_input": "2021-10-14T18:52:13.978390Z",
     "iopub.status.busy": "2021-10-14T18:52:13.977523Z",
     "iopub.status.idle": "2021-10-14T18:52:13.980673Z",
     "shell.execute_reply": "2021-10-14T18:52:13.981155Z",
     "shell.execute_reply.started": "2021-10-14T18:12:42.750648Z"
    },
    "papermill": {
     "duration": 0.069603,
     "end_time": "2021-10-14T18:52:13.981351",
     "exception": false,
     "start_time": "2021-10-14T18:52:13.911748",
     "status": "completed"
    },
    "tags": []
   },
   "outputs": [
    {
     "data": {
      "text/plain": [
       "Quick Bites           19010\n",
       "Casual Dining         10253\n",
       "others                 9003\n",
       "Cafe                   3682\n",
       "Delivery               2574\n",
       "Dessert Parlor         2242\n",
       "Takeaway, Delivery     2008\n",
       "Bakery                 1140\n",
       "Casual Dining, Bar     1130\n",
       "Name: rest_type, dtype: int64"
      ]
     },
     "execution_count": 25,
     "metadata": {},
     "output_type": "execute_result"
    }
   ],
   "source": [
    "df['rest_type'].value_counts()"
   ]
  },
  {
   "cell_type": "code",
   "execution_count": 26,
   "id": "2f25d277",
   "metadata": {
    "execution": {
     "iopub.execute_input": "2021-10-14T18:52:14.092138Z",
     "iopub.status.busy": "2021-10-14T18:52:14.091258Z",
     "iopub.status.idle": "2021-10-14T18:52:14.105630Z",
     "shell.execute_reply": "2021-10-14T18:52:14.106144Z",
     "shell.execute_reply.started": "2021-10-14T18:14:01.240232Z"
    },
    "papermill": {
     "duration": 0.072949,
     "end_time": "2021-10-14T18:52:14.106328",
     "exception": false,
     "start_time": "2021-10-14T18:52:14.033379",
     "status": "completed"
    },
    "tags": []
   },
   "outputs": [
    {
     "data": {
      "text/plain": [
       "BTM                      5056\n",
       "HSR                      2494\n",
       "Koramangala 5th Block    2479\n",
       "JP Nagar                 2218\n",
       "Whitefield               2105\n",
       "                         ... \n",
       "West Bangalore              6\n",
       "Yelahanka                   5\n",
       "Jakkur                      3\n",
       "Rajarajeshwari Nagar        2\n",
       "Peenya                      1\n",
       "Name: location, Length: 93, dtype: int64"
      ]
     },
     "execution_count": 26,
     "metadata": {},
     "output_type": "execute_result"
    }
   ],
   "source": [
    "df['location'].value_counts()"
   ]
  },
  {
   "cell_type": "code",
   "execution_count": 27,
   "id": "bea0beb0",
   "metadata": {
    "execution": {
     "iopub.execute_input": "2021-10-14T18:52:14.218290Z",
     "iopub.status.busy": "2021-10-14T18:52:14.217572Z",
     "iopub.status.idle": "2021-10-14T18:52:14.322293Z",
     "shell.execute_reply": "2021-10-14T18:52:14.322846Z",
     "shell.execute_reply.started": "2021-10-14T18:17:53.867896Z"
    },
    "papermill": {
     "duration": 0.163837,
     "end_time": "2021-10-14T18:52:14.323039",
     "exception": false,
     "start_time": "2021-10-14T18:52:14.159202",
     "status": "completed"
    },
    "tags": []
   },
   "outputs": [
    {
     "data": {
      "text/plain": [
       "BTM                      5056\n",
       "others                   4954\n",
       "HSR                      2494\n",
       "Koramangala 5th Block    2479\n",
       "JP Nagar                 2218\n",
       "Whitefield               2105\n",
       "Indiranagar              2026\n",
       "Jayanagar                1916\n",
       "Marathahalli             1805\n",
       "Bannerghatta Road        1609\n",
       "Bellandur                1268\n",
       "Electronic City          1246\n",
       "Koramangala 1st Block    1236\n",
       "Brigade Road             1210\n",
       "Koramangala 7th Block    1174\n",
       "Koramangala 6th Block    1127\n",
       "Sarjapur Road            1047\n",
       "Koramangala 4th Block    1017\n",
       "Ulsoor                   1011\n",
       "Banashankari              902\n",
       "MG Road                   893\n",
       "Kalyan Nagar              841\n",
       "Richmond Road             803\n",
       "Malleshwaram              721\n",
       "Frazer Town               714\n",
       "Basavanagudi              684\n",
       "Residency Road            671\n",
       "Brookefield               656\n",
       "New BEL Road              644\n",
       "Banaswadi                 640\n",
       "Kammanahalli              639\n",
       "Rajajinagar               591\n",
       "Church Street             566\n",
       "Lavelle Road              518\n",
       "Shanti Nagar              508\n",
       "Shivajinagar              498\n",
       "Cunningham Road           490\n",
       "Domlur                    482\n",
       "Old Airport Road          437\n",
       "Ejipura                   433\n",
       "Commercial Street         370\n",
       "St. Marks Road            343\n",
       "Name: location, dtype: int64"
      ]
     },
     "execution_count": 27,
     "metadata": {},
     "output_type": "execute_result"
    }
   ],
   "source": [
    "location=df['location'].value_counts(ascending=False)\n",
    "location_lessthan300=location[location<300]\n",
    "\n",
    "def handle_location(value):\n",
    "    if(value in location_lessthan300):\n",
    "        return 'others'\n",
    "    else:\n",
    "        return value\n",
    "df['location']=df['location'].apply(handle_location)\n",
    "df['location'].value_counts()"
   ]
  },
  {
   "cell_type": "code",
   "execution_count": 28,
   "id": "92679a79",
   "metadata": {
    "execution": {
     "iopub.execute_input": "2021-10-14T18:52:14.433277Z",
     "iopub.status.busy": "2021-10-14T18:52:14.432590Z",
     "iopub.status.idle": "2021-10-14T18:52:14.536122Z",
     "shell.execute_reply": "2021-10-14T18:52:14.535512Z",
     "shell.execute_reply.started": "2021-10-14T18:22:33.077036Z"
    },
    "papermill": {
     "duration": 0.160856,
     "end_time": "2021-10-14T18:52:14.536288",
     "exception": false,
     "start_time": "2021-10-14T18:52:14.375432",
     "status": "completed"
    },
    "tags": []
   },
   "outputs": [
    {
     "data": {
      "text/plain": [
       "others                                 26159\n",
       "North Indian                            2852\n",
       "North Indian, Chinese                   2351\n",
       "South Indian                            1820\n",
       "Biryani                                  903\n",
       "                                       ...  \n",
       "South Indian, Chinese, North Indian      105\n",
       "North Indian, Mughlai, Chinese           104\n",
       "South Indian, Fast Food                  104\n",
       "Italian, Pizza                           102\n",
       "North Indian, Chinese, Seafood           102\n",
       "Name: cuisines, Length: 70, dtype: int64"
      ]
     },
     "execution_count": 28,
     "metadata": {},
     "output_type": "execute_result"
    }
   ],
   "source": [
    "cuisine=df['cuisines'].value_counts(ascending=False)\n",
    "cuisine_lessthan100=cuisine[cuisine<100]\n",
    "\n",
    "def handle_cuisine(value):\n",
    "    if(value in cuisine_lessthan100):\n",
    "        return 'others'\n",
    "    else:\n",
    "        return value\n",
    "df['cuisines']=df['cuisines'].apply(handle_cuisine)\n",
    "df['cuisines'].value_counts()"
   ]
  },
  {
   "cell_type": "code",
   "execution_count": 29,
   "id": "df895faf",
   "metadata": {
    "execution": {
     "iopub.execute_input": "2021-10-14T18:52:14.657238Z",
     "iopub.status.busy": "2021-10-14T18:52:14.656515Z",
     "iopub.status.idle": "2021-10-14T18:52:14.662056Z",
     "shell.execute_reply": "2021-10-14T18:52:14.662582Z",
     "shell.execute_reply.started": "2021-10-14T18:23:39.127511Z"
    },
    "papermill": {
     "duration": 0.071029,
     "end_time": "2021-10-14T18:52:14.662774",
     "exception": false,
     "start_time": "2021-10-14T18:52:14.591745",
     "status": "completed"
    },
    "tags": []
   },
   "outputs": [
    {
     "data": {
      "text/plain": [
       "Delivery              25579\n",
       "Dine-out              17562\n",
       "Desserts               3559\n",
       "Cafes                  1703\n",
       "Drinks & nightlife     1084\n",
       "Buffet                  869\n",
       "Pubs and bars           686\n",
       "Name: type, dtype: int64"
      ]
     },
     "execution_count": 29,
     "metadata": {},
     "output_type": "execute_result"
    }
   ],
   "source": [
    "df['type'].value_counts()"
   ]
  },
  {
   "cell_type": "code",
   "execution_count": 30,
   "id": "7edb45b0",
   "metadata": {
    "execution": {
     "iopub.execute_input": "2021-10-14T18:52:14.773753Z",
     "iopub.status.busy": "2021-10-14T18:52:14.773072Z",
     "iopub.status.idle": "2021-10-14T18:52:14.787613Z",
     "shell.execute_reply": "2021-10-14T18:52:14.788111Z",
     "shell.execute_reply.started": "2021-10-14T18:23:51.457365Z"
    },
    "papermill": {
     "duration": 0.071434,
     "end_time": "2021-10-14T18:52:14.788295",
     "exception": false,
     "start_time": "2021-10-14T18:52:14.716861",
     "status": "completed"
    },
    "tags": []
   },
   "outputs": [
    {
     "data": {
      "text/html": [
       "<div>\n",
       "<style scoped>\n",
       "    .dataframe tbody tr th:only-of-type {\n",
       "        vertical-align: middle;\n",
       "    }\n",
       "\n",
       "    .dataframe tbody tr th {\n",
       "        vertical-align: top;\n",
       "    }\n",
       "\n",
       "    .dataframe thead th {\n",
       "        text-align: right;\n",
       "    }\n",
       "</style>\n",
       "<table border=\"1\" class=\"dataframe\">\n",
       "  <thead>\n",
       "    <tr style=\"text-align: right;\">\n",
       "      <th></th>\n",
       "      <th>name</th>\n",
       "      <th>online_order</th>\n",
       "      <th>book_table</th>\n",
       "      <th>rate</th>\n",
       "      <th>votes</th>\n",
       "      <th>location</th>\n",
       "      <th>rest_type</th>\n",
       "      <th>cuisines</th>\n",
       "      <th>2pcost</th>\n",
       "      <th>type</th>\n",
       "    </tr>\n",
       "  </thead>\n",
       "  <tbody>\n",
       "    <tr>\n",
       "      <th>0</th>\n",
       "      <td>Jalsa</td>\n",
       "      <td>Yes</td>\n",
       "      <td>Yes</td>\n",
       "      <td>4.1</td>\n",
       "      <td>775</td>\n",
       "      <td>Banashankari</td>\n",
       "      <td>Casual Dining</td>\n",
       "      <td>North Indian, Mughlai, Chinese</td>\n",
       "      <td>800.0</td>\n",
       "      <td>Buffet</td>\n",
       "    </tr>\n",
       "    <tr>\n",
       "      <th>1</th>\n",
       "      <td>Spice Elephant</td>\n",
       "      <td>Yes</td>\n",
       "      <td>No</td>\n",
       "      <td>4.1</td>\n",
       "      <td>787</td>\n",
       "      <td>Banashankari</td>\n",
       "      <td>Casual Dining</td>\n",
       "      <td>others</td>\n",
       "      <td>800.0</td>\n",
       "      <td>Buffet</td>\n",
       "    </tr>\n",
       "    <tr>\n",
       "      <th>2</th>\n",
       "      <td>San Churro Cafe</td>\n",
       "      <td>Yes</td>\n",
       "      <td>No</td>\n",
       "      <td>3.8</td>\n",
       "      <td>918</td>\n",
       "      <td>Banashankari</td>\n",
       "      <td>others</td>\n",
       "      <td>others</td>\n",
       "      <td>800.0</td>\n",
       "      <td>Buffet</td>\n",
       "    </tr>\n",
       "    <tr>\n",
       "      <th>3</th>\n",
       "      <td>Addhuri Udupi Bhojana</td>\n",
       "      <td>No</td>\n",
       "      <td>No</td>\n",
       "      <td>3.7</td>\n",
       "      <td>88</td>\n",
       "      <td>Banashankari</td>\n",
       "      <td>Quick Bites</td>\n",
       "      <td>South Indian, North Indian</td>\n",
       "      <td>300.0</td>\n",
       "      <td>Buffet</td>\n",
       "    </tr>\n",
       "    <tr>\n",
       "      <th>4</th>\n",
       "      <td>Grand Village</td>\n",
       "      <td>No</td>\n",
       "      <td>No</td>\n",
       "      <td>3.8</td>\n",
       "      <td>166</td>\n",
       "      <td>Basavanagudi</td>\n",
       "      <td>Casual Dining</td>\n",
       "      <td>others</td>\n",
       "      <td>600.0</td>\n",
       "      <td>Buffet</td>\n",
       "    </tr>\n",
       "  </tbody>\n",
       "</table>\n",
       "</div>"
      ],
      "text/plain": [
       "                    name online_order book_table  rate  votes      location  \\\n",
       "0                  Jalsa          Yes        Yes   4.1    775  Banashankari   \n",
       "1         Spice Elephant          Yes         No   4.1    787  Banashankari   \n",
       "2        San Churro Cafe          Yes         No   3.8    918  Banashankari   \n",
       "3  Addhuri Udupi Bhojana           No         No   3.7     88  Banashankari   \n",
       "4          Grand Village           No         No   3.8    166  Basavanagudi   \n",
       "\n",
       "       rest_type                        cuisines  2pcost    type  \n",
       "0  Casual Dining  North Indian, Mughlai, Chinese   800.0  Buffet  \n",
       "1  Casual Dining                          others   800.0  Buffet  \n",
       "2         others                          others   800.0  Buffet  \n",
       "3    Quick Bites      South Indian, North Indian   300.0  Buffet  \n",
       "4  Casual Dining                          others   600.0  Buffet  "
      ]
     },
     "execution_count": 30,
     "metadata": {},
     "output_type": "execute_result"
    }
   ],
   "source": [
    "df.head()"
   ]
  },
  {
   "cell_type": "markdown",
   "id": "f4c763de",
   "metadata": {
    "papermill": {
     "duration": 0.05566,
     "end_time": "2021-10-14T18:52:14.897945",
     "exception": false,
     "start_time": "2021-10-14T18:52:14.842285",
     "status": "completed"
    },
    "tags": []
   },
   "source": [
    "PLOT ON VARIOUS LOCATION"
   ]
  },
  {
   "cell_type": "code",
   "execution_count": 31,
   "id": "e1e49f87",
   "metadata": {
    "execution": {
     "iopub.execute_input": "2021-10-14T18:52:15.013568Z",
     "iopub.status.busy": "2021-10-14T18:52:15.012859Z",
     "iopub.status.idle": "2021-10-14T18:52:15.839422Z",
     "shell.execute_reply": "2021-10-14T18:52:15.840016Z",
     "shell.execute_reply.started": "2021-10-14T18:27:28.247815Z"
    },
    "papermill": {
     "duration": 0.885863,
     "end_time": "2021-10-14T18:52:15.840210",
     "exception": false,
     "start_time": "2021-10-14T18:52:14.954347",
     "status": "completed"
    },
    "tags": []
   },
   "outputs": [
    {
     "name": "stderr",
     "output_type": "stream",
     "text": [
      "/opt/conda/lib/python3.7/site-packages/seaborn/_decorators.py:43: FutureWarning: Pass the following variable as a keyword arg: x. From version 0.12, the only valid positional argument will be `data`, and passing other arguments without an explicit keyword will result in an error or misinterpretation.\n",
      "  FutureWarning\n"
     ]
    },
    {
     "data": {
      "text/plain": [
       "(array([ 0,  1,  2,  3,  4,  5,  6,  7,  8,  9, 10, 11, 12, 13, 14, 15, 16,\n",
       "        17, 18, 19, 20, 21, 22, 23, 24, 25, 26, 27, 28, 29, 30, 31, 32, 33,\n",
       "        34, 35, 36, 37, 38, 39, 40, 41]),\n",
       " [Text(0, 0, 'Banashankari'),\n",
       "  Text(1, 0, 'Basavanagudi'),\n",
       "  Text(2, 0, 'others'),\n",
       "  Text(3, 0, 'Jayanagar'),\n",
       "  Text(4, 0, 'JP Nagar'),\n",
       "  Text(5, 0, 'Bannerghatta Road'),\n",
       "  Text(6, 0, 'BTM'),\n",
       "  Text(7, 0, 'Electronic City'),\n",
       "  Text(8, 0, 'HSR'),\n",
       "  Text(9, 0, 'Marathahalli'),\n",
       "  Text(10, 0, 'Shanti Nagar'),\n",
       "  Text(11, 0, 'Koramangala 5th Block'),\n",
       "  Text(12, 0, 'Richmond Road'),\n",
       "  Text(13, 0, 'Koramangala 7th Block'),\n",
       "  Text(14, 0, 'Koramangala 4th Block'),\n",
       "  Text(15, 0, 'Bellandur'),\n",
       "  Text(16, 0, 'Sarjapur Road'),\n",
       "  Text(17, 0, 'Whitefield'),\n",
       "  Text(18, 0, 'Old Airport Road'),\n",
       "  Text(19, 0, 'Indiranagar'),\n",
       "  Text(20, 0, 'Koramangala 1st Block'),\n",
       "  Text(21, 0, 'Frazer Town'),\n",
       "  Text(22, 0, 'MG Road'),\n",
       "  Text(23, 0, 'Brigade Road'),\n",
       "  Text(24, 0, 'Lavelle Road'),\n",
       "  Text(25, 0, 'Church Street'),\n",
       "  Text(26, 0, 'Ulsoor'),\n",
       "  Text(27, 0, 'Residency Road'),\n",
       "  Text(28, 0, 'Shivajinagar'),\n",
       "  Text(29, 0, 'St. Marks Road'),\n",
       "  Text(30, 0, 'Cunningham Road'),\n",
       "  Text(31, 0, 'Commercial Street'),\n",
       "  Text(32, 0, 'Domlur'),\n",
       "  Text(33, 0, 'Ejipura'),\n",
       "  Text(34, 0, 'Malleshwaram'),\n",
       "  Text(35, 0, 'Kammanahalli'),\n",
       "  Text(36, 0, 'Koramangala 6th Block'),\n",
       "  Text(37, 0, 'Brookefield'),\n",
       "  Text(38, 0, 'Rajajinagar'),\n",
       "  Text(39, 0, 'Banaswadi'),\n",
       "  Text(40, 0, 'Kalyan Nagar'),\n",
       "  Text(41, 0, 'New BEL Road')])"
      ]
     },
     "execution_count": 31,
     "metadata": {},
     "output_type": "execute_result"
    },
    {
     "data": {
      "image/png": "[encoded data removed]",
      "text/plain": [
       "<Figure size 1152x720 with 1 Axes>"
      ]
     },
     "metadata": {},
     "output_type": "display_data"
    }
   ],
   "source": [
    "plt.figure(figsize=(16,10))\n",
    "ax=sb.countplot(df['location'])\n",
    "plt.xticks(rotation=90)"
   ]
  },
  {
   "cell_type": "code",
   "execution_count": 32,
   "id": "70ba6770",
   "metadata": {
    "execution": {
     "iopub.execute_input": "2021-10-14T18:52:15.958210Z",
     "iopub.status.busy": "2021-10-14T18:52:15.957481Z",
     "iopub.status.idle": "2021-10-14T18:52:16.206597Z",
     "shell.execute_reply": "2021-10-14T18:52:16.207101Z",
     "shell.execute_reply.started": "2021-10-14T18:29:50.118453Z"
    },
    "papermill": {
     "duration": 0.310026,
     "end_time": "2021-10-14T18:52:16.207288",
     "exception": false,
     "start_time": "2021-10-14T18:52:15.897262",
     "status": "completed"
    },
    "tags": []
   },
   "outputs": [
    {
     "name": "stderr",
     "output_type": "stream",
     "text": [
      "/opt/conda/lib/python3.7/site-packages/seaborn/_decorators.py:43: FutureWarning: Pass the following variable as a keyword arg: x. From version 0.12, the only valid positional argument will be `data`, and passing other arguments without an explicit keyword will result in an error or misinterpretation.\n",
      "  FutureWarning\n"
     ]
    },
    {
     "data": {
      "text/plain": [
       "<AxesSubplot:xlabel='online_order', ylabel='count'>"
      ]
     },
     "execution_count": 32,
     "metadata": {},
     "output_type": "execute_result"
    },
    {
     "data": {
      "image/png": "[encoded data removed]",
      "text/plain": [
       "<Figure size 432x432 with 1 Axes>"
      ]
     },
     "metadata": {},
     "output_type": "display_data"
    }
   ],
   "source": [
    "plt.figure(figsize=(6,6))\n",
    "sb.countplot(df['online_order'],palette='inferno')"
   ]
  },
  {
   "cell_type": "code",
   "execution_count": 33,
   "id": "a2a2a8cb",
   "metadata": {
    "execution": {
     "iopub.execute_input": "2021-10-14T18:52:16.331097Z",
     "iopub.status.busy": "2021-10-14T18:52:16.330363Z",
     "iopub.status.idle": "2021-10-14T18:52:16.570057Z",
     "shell.execute_reply": "2021-10-14T18:52:16.570587Z",
     "shell.execute_reply.started": "2021-10-14T18:30:48.038174Z"
    },
    "papermill": {
     "duration": 0.303321,
     "end_time": "2021-10-14T18:52:16.570765",
     "exception": false,
     "start_time": "2021-10-14T18:52:16.267444",
     "status": "completed"
    },
    "tags": []
   },
   "outputs": [
    {
     "name": "stderr",
     "output_type": "stream",
     "text": [
      "/opt/conda/lib/python3.7/site-packages/seaborn/_decorators.py:43: FutureWarning: Pass the following variable as a keyword arg: x. From version 0.12, the only valid positional argument will be `data`, and passing other arguments without an explicit keyword will result in an error or misinterpretation.\n",
      "  FutureWarning\n"
     ]
    },
    {
     "data": {
      "text/plain": [
       "<AxesSubplot:xlabel='book_table', ylabel='count'>"
      ]
     },
     "execution_count": 33,
     "metadata": {},
     "output_type": "execute_result"
    },
    {
     "data": {
      "image/png": "[encoded data removed]",
      "text/plain": [
       "<Figure size 432x432 with 1 Axes>"
      ]
     },
     "metadata": {},
     "output_type": "display_data"
    }
   ],
   "source": [
    "plt.figure(figsize=(6,6))\n",
    "sb.countplot(df['book_table'],palette='rainbow')"
   ]
  },
  {
   "cell_type": "code",
   "execution_count": 34,
   "id": "3232a679",
   "metadata": {
    "execution": {
     "iopub.execute_input": "2021-10-14T18:52:16.691790Z",
     "iopub.status.busy": "2021-10-14T18:52:16.691132Z",
     "iopub.status.idle": "2021-10-14T18:52:16.956558Z",
     "shell.execute_reply": "2021-10-14T18:52:16.955997Z",
     "shell.execute_reply.started": "2021-10-14T18:32:30.889309Z"
    },
    "papermill": {
     "duration": 0.32678,
     "end_time": "2021-10-14T18:52:16.956721",
     "exception": false,
     "start_time": "2021-10-14T18:52:16.629941",
     "status": "completed"
    },
    "tags": []
   },
   "outputs": [
    {
     "data": {
      "text/plain": [
       "<AxesSubplot:xlabel='online_order', ylabel='rate'>"
      ]
     },
     "execution_count": 34,
     "metadata": {},
     "output_type": "execute_result"
    },
    {
     "data": {
      "image/png": "[encoded data removed]",
      "text/plain": [
       "<Figure size 432x432 with 1 Axes>"
      ]
     },
     "metadata": {},
     "output_type": "display_data"
    }
   ],
   "source": [
    "plt.figure(figsize=(6,6))\n",
    "sb.boxplot(x='online_order',y='rate',data=df)"
   ]
  },
  {
   "cell_type": "code",
   "execution_count": 35,
   "id": "42296e92",
   "metadata": {
    "execution": {
     "iopub.execute_input": "2021-10-14T18:52:17.099773Z",
     "iopub.status.busy": "2021-10-14T18:52:17.089893Z",
     "iopub.status.idle": "2021-10-14T18:52:17.352147Z",
     "shell.execute_reply": "2021-10-14T18:52:17.351580Z",
     "shell.execute_reply.started": "2021-10-14T18:33:43.878977Z"
    },
    "papermill": {
     "duration": 0.335342,
     "end_time": "2021-10-14T18:52:17.352306",
     "exception": false,
     "start_time": "2021-10-14T18:52:17.016964",
     "status": "completed"
    },
    "tags": []
   },
   "outputs": [
    {
     "data": {
      "text/plain": [
       "<AxesSubplot:xlabel='book_table', ylabel='rate'>"
      ]
     },
     "execution_count": 35,
     "metadata": {},
     "output_type": "execute_result"
    },
    {
     "data": {
      "image/png": "[encoded data removed]",
      "text/plain": [
       "<Figure size 432x432 with 1 Axes>"
      ]
     },
     "metadata": {},
     "output_type": "display_data"
    }
   ],
   "source": [
    "plt.figure(figsize=(6,6))\n",
    "sb.boxplot(x='book_table',y='rate',data=df)"
   ]
  },
  {
   "cell_type": "markdown",
   "id": "c6ef12e9",
   "metadata": {
    "papermill": {
     "duration": 0.063666,
     "end_time": "2021-10-14T18:52:17.480780",
     "exception": false,
     "start_time": "2021-10-14T18:52:17.417114",
     "status": "completed"
    },
    "tags": []
   },
   "source": [
    "ONLINE ORDER PROVIDE"
   ]
  },
  {
   "cell_type": "code",
   "execution_count": 36,
   "id": "dbd5561f",
   "metadata": {
    "execution": {
     "iopub.execute_input": "2021-10-14T18:52:17.615425Z",
     "iopub.status.busy": "2021-10-14T18:52:17.614717Z",
     "iopub.status.idle": "2021-10-14T18:52:17.662553Z",
     "shell.execute_reply": "2021-10-14T18:52:17.661900Z",
     "shell.execute_reply.started": "2021-10-14T18:41:23.358704Z"
    },
    "papermill": {
     "duration": 0.11947,
     "end_time": "2021-10-14T18:52:17.662699",
     "exception": false,
     "start_time": "2021-10-14T18:52:17.543229",
     "status": "completed"
    },
    "tags": []
   },
   "outputs": [
    {
     "data": {
      "text/html": [
       "<div>\n",
       "<style scoped>\n",
       "    .dataframe tbody tr th:only-of-type {\n",
       "        vertical-align: middle;\n",
       "    }\n",
       "\n",
       "    .dataframe tbody tr th {\n",
       "        vertical-align: top;\n",
       "    }\n",
       "\n",
       "    .dataframe thead tr th {\n",
       "        text-align: left;\n",
       "    }\n",
       "\n",
       "    .dataframe thead tr:last-of-type th {\n",
       "        text-align: right;\n",
       "    }\n",
       "</style>\n",
       "<table border=\"1\" class=\"dataframe\">\n",
       "  <thead>\n",
       "    <tr>\n",
       "      <th></th>\n",
       "      <th colspan=\"2\" halign=\"left\">name</th>\n",
       "    </tr>\n",
       "    <tr>\n",
       "      <th>online_order</th>\n",
       "      <th>No</th>\n",
       "      <th>Yes</th>\n",
       "    </tr>\n",
       "    <tr>\n",
       "      <th>location</th>\n",
       "      <th></th>\n",
       "      <th></th>\n",
       "    </tr>\n",
       "  </thead>\n",
       "  <tbody>\n",
       "    <tr>\n",
       "      <th>BTM</th>\n",
       "      <td>1763</td>\n",
       "      <td>3293</td>\n",
       "    </tr>\n",
       "    <tr>\n",
       "      <th>Banashankari</th>\n",
       "      <td>397</td>\n",
       "      <td>505</td>\n",
       "    </tr>\n",
       "    <tr>\n",
       "      <th>Banaswadi</th>\n",
       "      <td>302</td>\n",
       "      <td>338</td>\n",
       "    </tr>\n",
       "    <tr>\n",
       "      <th>Bannerghatta Road</th>\n",
       "      <td>685</td>\n",
       "      <td>924</td>\n",
       "    </tr>\n",
       "    <tr>\n",
       "      <th>Basavanagudi</th>\n",
       "      <td>243</td>\n",
       "      <td>441</td>\n",
       "    </tr>\n",
       "    <tr>\n",
       "      <th>Bellandur</th>\n",
       "      <td>517</td>\n",
       "      <td>751</td>\n",
       "    </tr>\n",
       "    <tr>\n",
       "      <th>Brigade Road</th>\n",
       "      <td>552</td>\n",
       "      <td>658</td>\n",
       "    </tr>\n",
       "    <tr>\n",
       "      <th>Brookefield</th>\n",
       "      <td>239</td>\n",
       "      <td>417</td>\n",
       "    </tr>\n",
       "    <tr>\n",
       "      <th>Church Street</th>\n",
       "      <td>226</td>\n",
       "      <td>340</td>\n",
       "    </tr>\n",
       "    <tr>\n",
       "      <th>Commercial Street</th>\n",
       "      <td>228</td>\n",
       "      <td>142</td>\n",
       "    </tr>\n",
       "    <tr>\n",
       "      <th>Cunningham Road</th>\n",
       "      <td>168</td>\n",
       "      <td>322</td>\n",
       "    </tr>\n",
       "    <tr>\n",
       "      <th>Domlur</th>\n",
       "      <td>247</td>\n",
       "      <td>235</td>\n",
       "    </tr>\n",
       "    <tr>\n",
       "      <th>Ejipura</th>\n",
       "      <td>214</td>\n",
       "      <td>219</td>\n",
       "    </tr>\n",
       "    <tr>\n",
       "      <th>Electronic City</th>\n",
       "      <td>676</td>\n",
       "      <td>570</td>\n",
       "    </tr>\n",
       "    <tr>\n",
       "      <th>Frazer Town</th>\n",
       "      <td>287</td>\n",
       "      <td>427</td>\n",
       "    </tr>\n",
       "    <tr>\n",
       "      <th>HSR</th>\n",
       "      <td>584</td>\n",
       "      <td>1910</td>\n",
       "    </tr>\n",
       "    <tr>\n",
       "      <th>Indiranagar</th>\n",
       "      <td>697</td>\n",
       "      <td>1329</td>\n",
       "    </tr>\n",
       "    <tr>\n",
       "      <th>JP Nagar</th>\n",
       "      <td>911</td>\n",
       "      <td>1307</td>\n",
       "    </tr>\n",
       "    <tr>\n",
       "      <th>Jayanagar</th>\n",
       "      <td>552</td>\n",
       "      <td>1364</td>\n",
       "    </tr>\n",
       "    <tr>\n",
       "      <th>Kalyan Nagar</th>\n",
       "      <td>350</td>\n",
       "      <td>491</td>\n",
       "    </tr>\n",
       "    <tr>\n",
       "      <th>Kammanahalli</th>\n",
       "      <td>264</td>\n",
       "      <td>375</td>\n",
       "    </tr>\n",
       "    <tr>\n",
       "      <th>Koramangala 1st Block</th>\n",
       "      <td>384</td>\n",
       "      <td>852</td>\n",
       "    </tr>\n",
       "    <tr>\n",
       "      <th>Koramangala 4th Block</th>\n",
       "      <td>459</td>\n",
       "      <td>558</td>\n",
       "    </tr>\n",
       "    <tr>\n",
       "      <th>Koramangala 5th Block</th>\n",
       "      <td>866</td>\n",
       "      <td>1613</td>\n",
       "    </tr>\n",
       "    <tr>\n",
       "      <th>Koramangala 6th Block</th>\n",
       "      <td>445</td>\n",
       "      <td>682</td>\n",
       "    </tr>\n",
       "    <tr>\n",
       "      <th>Koramangala 7th Block</th>\n",
       "      <td>389</td>\n",
       "      <td>785</td>\n",
       "    </tr>\n",
       "    <tr>\n",
       "      <th>Lavelle Road</th>\n",
       "      <td>315</td>\n",
       "      <td>203</td>\n",
       "    </tr>\n",
       "    <tr>\n",
       "      <th>MG Road</th>\n",
       "      <td>520</td>\n",
       "      <td>373</td>\n",
       "    </tr>\n",
       "    <tr>\n",
       "      <th>Malleshwaram</th>\n",
       "      <td>309</td>\n",
       "      <td>412</td>\n",
       "    </tr>\n",
       "    <tr>\n",
       "      <th>Marathahalli</th>\n",
       "      <td>701</td>\n",
       "      <td>1104</td>\n",
       "    </tr>\n",
       "    <tr>\n",
       "      <th>New BEL Road</th>\n",
       "      <td>255</td>\n",
       "      <td>389</td>\n",
       "    </tr>\n",
       "    <tr>\n",
       "      <th>Old Airport Road</th>\n",
       "      <td>221</td>\n",
       "      <td>216</td>\n",
       "    </tr>\n",
       "    <tr>\n",
       "      <th>Rajajinagar</th>\n",
       "      <td>286</td>\n",
       "      <td>305</td>\n",
       "    </tr>\n",
       "    <tr>\n",
       "      <th>Residency Road</th>\n",
       "      <td>424</td>\n",
       "      <td>247</td>\n",
       "    </tr>\n",
       "    <tr>\n",
       "      <th>Richmond Road</th>\n",
       "      <td>557</td>\n",
       "      <td>246</td>\n",
       "    </tr>\n",
       "    <tr>\n",
       "      <th>Sarjapur Road</th>\n",
       "      <td>323</td>\n",
       "      <td>724</td>\n",
       "    </tr>\n",
       "    <tr>\n",
       "      <th>Shanti Nagar</th>\n",
       "      <td>289</td>\n",
       "      <td>219</td>\n",
       "    </tr>\n",
       "    <tr>\n",
       "      <th>Shivajinagar</th>\n",
       "      <td>354</td>\n",
       "      <td>144</td>\n",
       "    </tr>\n",
       "    <tr>\n",
       "      <th>St. Marks Road</th>\n",
       "      <td>176</td>\n",
       "      <td>167</td>\n",
       "    </tr>\n",
       "    <tr>\n",
       "      <th>Ulsoor</th>\n",
       "      <td>389</td>\n",
       "      <td>622</td>\n",
       "    </tr>\n",
       "    <tr>\n",
       "      <th>Whitefield</th>\n",
       "      <td>986</td>\n",
       "      <td>1119</td>\n",
       "    </tr>\n",
       "    <tr>\n",
       "      <th>others</th>\n",
       "      <td>2064</td>\n",
       "      <td>2890</td>\n",
       "    </tr>\n",
       "  </tbody>\n",
       "</table>\n",
       "</div>"
      ],
      "text/plain": [
       "                       name      \n",
       "online_order             No   Yes\n",
       "location                         \n",
       "BTM                    1763  3293\n",
       "Banashankari            397   505\n",
       "Banaswadi               302   338\n",
       "Bannerghatta Road       685   924\n",
       "Basavanagudi            243   441\n",
       "Bellandur               517   751\n",
       "Brigade Road            552   658\n",
       "Brookefield             239   417\n",
       "Church Street           226   340\n",
       "Commercial Street       228   142\n",
       "Cunningham Road         168   322\n",
       "Domlur                  247   235\n",
       "Ejipura                 214   219\n",
       "Electronic City         676   570\n",
       "Frazer Town             287   427\n",
       "HSR                     584  1910\n",
       "Indiranagar             697  1329\n",
       "JP Nagar                911  1307\n",
       "Jayanagar               552  1364\n",
       "Kalyan Nagar            350   491\n",
       "Kammanahalli            264   375\n",
       "Koramangala 1st Block   384   852\n",
       "Koramangala 4th Block   459   558\n",
       "Koramangala 5th Block   866  1613\n",
       "Koramangala 6th Block   445   682\n",
       "Koramangala 7th Block   389   785\n",
       "Lavelle Road            315   203\n",
       "MG Road                 520   373\n",
       "Malleshwaram            309   412\n",
       "Marathahalli            701  1104\n",
       "New BEL Road            255   389\n",
       "Old Airport Road        221   216\n",
       "Rajajinagar             286   305\n",
       "Residency Road          424   247\n",
       "Richmond Road           557   246\n",
       "Sarjapur Road           323   724\n",
       "Shanti Nagar            289   219\n",
       "Shivajinagar            354   144\n",
       "St. Marks Road          176   167\n",
       "Ulsoor                  389   622\n",
       "Whitefield              986  1119\n",
       "others                 2064  2890"
      ]
     },
     "execution_count": 36,
     "metadata": {},
     "output_type": "execute_result"
    }
   ],
   "source": [
    "df1=df.groupby(['location','online_order'])['name'].count()\n",
    "df1.to_csv('location_online.csv')\n",
    "df1=pd.read_csv('location_online.csv')\n",
    "df1 = pd.pivot_table(df1, values=None, index=['location'], columns=['online_order'], fill_value=0, aggfunc=np.sum)\n",
    "df1"
   ]
  },
  {
   "cell_type": "code",
   "execution_count": 37,
   "id": "f7145722",
   "metadata": {
    "execution": {
     "iopub.execute_input": "2021-10-14T18:52:17.792278Z",
     "iopub.status.busy": "2021-10-14T18:52:17.791488Z",
     "iopub.status.idle": "2021-10-14T18:52:18.725692Z",
     "shell.execute_reply": "2021-10-14T18:52:18.725117Z",
     "shell.execute_reply.started": "2021-10-14T18:42:31.447363Z"
    },
    "papermill": {
     "duration": 1.000854,
     "end_time": "2021-10-14T18:52:18.725844",
     "exception": false,
     "start_time": "2021-10-14T18:52:17.724990",
     "status": "completed"
    },
    "tags": []
   },
   "outputs": [
    {
     "data": {
      "text/plain": [
       "<AxesSubplot:xlabel='location'>"
      ]
     },
     "execution_count": 37,
     "metadata": {},
     "output_type": "execute_result"
    },
    {
     "data": {
      "image/png": "[encoded data removed]",
      "text/plain": [
       "<Figure size 1152x720 with 1 Axes>"
      ]
     },
     "metadata": {},
     "output_type": "display_data"
    }
   ],
   "source": [
    "df1.plot(kind = 'bar', figsize = (16,10))"
   ]
  },
  {
   "cell_type": "code",
   "execution_count": 38,
   "id": "99de7e91",
   "metadata": {
    "execution": {
     "iopub.execute_input": "2021-10-14T18:52:18.866994Z",
     "iopub.status.busy": "2021-10-14T18:52:18.866001Z",
     "iopub.status.idle": "2021-10-14T18:52:18.905305Z",
     "shell.execute_reply": "2021-10-14T18:52:18.905833Z",
     "shell.execute_reply.started": "2021-10-14T18:43:37.740939Z"
    },
    "papermill": {
     "duration": 0.114911,
     "end_time": "2021-10-14T18:52:18.906008",
     "exception": false,
     "start_time": "2021-10-14T18:52:18.791097",
     "status": "completed"
    },
    "tags": []
   },
   "outputs": [
    {
     "data": {
      "text/html": [
       "<div>\n",
       "<style scoped>\n",
       "    .dataframe tbody tr th:only-of-type {\n",
       "        vertical-align: middle;\n",
       "    }\n",
       "\n",
       "    .dataframe tbody tr th {\n",
       "        vertical-align: top;\n",
       "    }\n",
       "\n",
       "    .dataframe thead tr th {\n",
       "        text-align: left;\n",
       "    }\n",
       "\n",
       "    .dataframe thead tr:last-of-type th {\n",
       "        text-align: right;\n",
       "    }\n",
       "</style>\n",
       "<table border=\"1\" class=\"dataframe\">\n",
       "  <thead>\n",
       "    <tr>\n",
       "      <th></th>\n",
       "      <th colspan=\"2\" halign=\"left\">name</th>\n",
       "    </tr>\n",
       "    <tr>\n",
       "      <th>book_table</th>\n",
       "      <th>No</th>\n",
       "      <th>Yes</th>\n",
       "    </tr>\n",
       "    <tr>\n",
       "      <th>location</th>\n",
       "      <th></th>\n",
       "      <th></th>\n",
       "    </tr>\n",
       "  </thead>\n",
       "  <tbody>\n",
       "    <tr>\n",
       "      <th>BTM</th>\n",
       "      <td>4889</td>\n",
       "      <td>167</td>\n",
       "    </tr>\n",
       "    <tr>\n",
       "      <th>Banashankari</th>\n",
       "      <td>839</td>\n",
       "      <td>63</td>\n",
       "    </tr>\n",
       "    <tr>\n",
       "      <th>Banaswadi</th>\n",
       "      <td>632</td>\n",
       "      <td>8</td>\n",
       "    </tr>\n",
       "    <tr>\n",
       "      <th>Bannerghatta Road</th>\n",
       "      <td>1510</td>\n",
       "      <td>99</td>\n",
       "    </tr>\n",
       "    <tr>\n",
       "      <th>Basavanagudi</th>\n",
       "      <td>668</td>\n",
       "      <td>16</td>\n",
       "    </tr>\n",
       "    <tr>\n",
       "      <th>Bellandur</th>\n",
       "      <td>1170</td>\n",
       "      <td>98</td>\n",
       "    </tr>\n",
       "    <tr>\n",
       "      <th>Brigade Road</th>\n",
       "      <td>1034</td>\n",
       "      <td>176</td>\n",
       "    </tr>\n",
       "    <tr>\n",
       "      <th>Brookefield</th>\n",
       "      <td>582</td>\n",
       "      <td>74</td>\n",
       "    </tr>\n",
       "    <tr>\n",
       "      <th>Church Street</th>\n",
       "      <td>385</td>\n",
       "      <td>181</td>\n",
       "    </tr>\n",
       "    <tr>\n",
       "      <th>Commercial Street</th>\n",
       "      <td>370</td>\n",
       "      <td>0</td>\n",
       "    </tr>\n",
       "    <tr>\n",
       "      <th>Cunningham Road</th>\n",
       "      <td>315</td>\n",
       "      <td>175</td>\n",
       "    </tr>\n",
       "    <tr>\n",
       "      <th>Domlur</th>\n",
       "      <td>427</td>\n",
       "      <td>55</td>\n",
       "    </tr>\n",
       "    <tr>\n",
       "      <th>Ejipura</th>\n",
       "      <td>433</td>\n",
       "      <td>0</td>\n",
       "    </tr>\n",
       "    <tr>\n",
       "      <th>Electronic City</th>\n",
       "      <td>1148</td>\n",
       "      <td>98</td>\n",
       "    </tr>\n",
       "    <tr>\n",
       "      <th>Frazer Town</th>\n",
       "      <td>706</td>\n",
       "      <td>8</td>\n",
       "    </tr>\n",
       "    <tr>\n",
       "      <th>HSR</th>\n",
       "      <td>2277</td>\n",
       "      <td>217</td>\n",
       "    </tr>\n",
       "    <tr>\n",
       "      <th>Indiranagar</th>\n",
       "      <td>1578</td>\n",
       "      <td>448</td>\n",
       "    </tr>\n",
       "    <tr>\n",
       "      <th>JP Nagar</th>\n",
       "      <td>1903</td>\n",
       "      <td>315</td>\n",
       "    </tr>\n",
       "    <tr>\n",
       "      <th>Jayanagar</th>\n",
       "      <td>1637</td>\n",
       "      <td>279</td>\n",
       "    </tr>\n",
       "    <tr>\n",
       "      <th>Kalyan Nagar</th>\n",
       "      <td>692</td>\n",
       "      <td>149</td>\n",
       "    </tr>\n",
       "    <tr>\n",
       "      <th>Kammanahalli</th>\n",
       "      <td>590</td>\n",
       "      <td>49</td>\n",
       "    </tr>\n",
       "    <tr>\n",
       "      <th>Koramangala 1st Block</th>\n",
       "      <td>1186</td>\n",
       "      <td>50</td>\n",
       "    </tr>\n",
       "    <tr>\n",
       "      <th>Koramangala 4th Block</th>\n",
       "      <td>695</td>\n",
       "      <td>322</td>\n",
       "    </tr>\n",
       "    <tr>\n",
       "      <th>Koramangala 5th Block</th>\n",
       "      <td>1787</td>\n",
       "      <td>692</td>\n",
       "    </tr>\n",
       "    <tr>\n",
       "      <th>Koramangala 6th Block</th>\n",
       "      <td>1015</td>\n",
       "      <td>112</td>\n",
       "    </tr>\n",
       "    <tr>\n",
       "      <th>Koramangala 7th Block</th>\n",
       "      <td>1012</td>\n",
       "      <td>162</td>\n",
       "    </tr>\n",
       "    <tr>\n",
       "      <th>Lavelle Road</th>\n",
       "      <td>290</td>\n",
       "      <td>228</td>\n",
       "    </tr>\n",
       "    <tr>\n",
       "      <th>MG Road</th>\n",
       "      <td>546</td>\n",
       "      <td>347</td>\n",
       "    </tr>\n",
       "    <tr>\n",
       "      <th>Malleshwaram</th>\n",
       "      <td>632</td>\n",
       "      <td>89</td>\n",
       "    </tr>\n",
       "    <tr>\n",
       "      <th>Marathahalli</th>\n",
       "      <td>1642</td>\n",
       "      <td>163</td>\n",
       "    </tr>\n",
       "    <tr>\n",
       "      <th>New BEL Road</th>\n",
       "      <td>588</td>\n",
       "      <td>56</td>\n",
       "    </tr>\n",
       "    <tr>\n",
       "      <th>Old Airport Road</th>\n",
       "      <td>378</td>\n",
       "      <td>59</td>\n",
       "    </tr>\n",
       "    <tr>\n",
       "      <th>Rajajinagar</th>\n",
       "      <td>550</td>\n",
       "      <td>41</td>\n",
       "    </tr>\n",
       "    <tr>\n",
       "      <th>Residency Road</th>\n",
       "      <td>522</td>\n",
       "      <td>149</td>\n",
       "    </tr>\n",
       "    <tr>\n",
       "      <th>Richmond Road</th>\n",
       "      <td>687</td>\n",
       "      <td>116</td>\n",
       "    </tr>\n",
       "    <tr>\n",
       "      <th>Sarjapur Road</th>\n",
       "      <td>893</td>\n",
       "      <td>154</td>\n",
       "    </tr>\n",
       "    <tr>\n",
       "      <th>Shanti Nagar</th>\n",
       "      <td>451</td>\n",
       "      <td>57</td>\n",
       "    </tr>\n",
       "    <tr>\n",
       "      <th>Shivajinagar</th>\n",
       "      <td>475</td>\n",
       "      <td>23</td>\n",
       "    </tr>\n",
       "    <tr>\n",
       "      <th>St. Marks Road</th>\n",
       "      <td>219</td>\n",
       "      <td>124</td>\n",
       "    </tr>\n",
       "    <tr>\n",
       "      <th>Ulsoor</th>\n",
       "      <td>834</td>\n",
       "      <td>177</td>\n",
       "    </tr>\n",
       "    <tr>\n",
       "      <th>Whitefield</th>\n",
       "      <td>1852</td>\n",
       "      <td>253</td>\n",
       "    </tr>\n",
       "    <tr>\n",
       "      <th>others</th>\n",
       "      <td>4587</td>\n",
       "      <td>367</td>\n",
       "    </tr>\n",
       "  </tbody>\n",
       "</table>\n",
       "</div>"
      ],
      "text/plain": [
       "                       name     \n",
       "book_table               No  Yes\n",
       "location                        \n",
       "BTM                    4889  167\n",
       "Banashankari            839   63\n",
       "Banaswadi               632    8\n",
       "Bannerghatta Road      1510   99\n",
       "Basavanagudi            668   16\n",
       "Bellandur              1170   98\n",
       "Brigade Road           1034  176\n",
       "Brookefield             582   74\n",
       "Church Street           385  181\n",
       "Commercial Street       370    0\n",
       "Cunningham Road         315  175\n",
       "Domlur                  427   55\n",
       "Ejipura                 433    0\n",
       "Electronic City        1148   98\n",
       "Frazer Town             706    8\n",
       "HSR                    2277  217\n",
       "Indiranagar            1578  448\n",
       "JP Nagar               1903  315\n",
       "Jayanagar              1637  279\n",
       "Kalyan Nagar            692  149\n",
       "Kammanahalli            590   49\n",
       "Koramangala 1st Block  1186   50\n",
       "Koramangala 4th Block   695  322\n",
       "Koramangala 5th Block  1787  692\n",
       "Koramangala 6th Block  1015  112\n",
       "Koramangala 7th Block  1012  162\n",
       "Lavelle Road            290  228\n",
       "MG Road                 546  347\n",
       "Malleshwaram            632   89\n",
       "Marathahalli           1642  163\n",
       "New BEL Road            588   56\n",
       "Old Airport Road        378   59\n",
       "Rajajinagar             550   41\n",
       "Residency Road          522  149\n",
       "Richmond Road           687  116\n",
       "Sarjapur Road           893  154\n",
       "Shanti Nagar            451   57\n",
       "Shivajinagar            475   23\n",
       "St. Marks Road          219  124\n",
       "Ulsoor                  834  177\n",
       "Whitefield             1852  253\n",
       "others                 4587  367"
      ]
     },
     "execution_count": 38,
     "metadata": {},
     "output_type": "execute_result"
    }
   ],
   "source": [
    "df2 = df.groupby(['location','book_table'])['name'].count()\n",
    "df2.to_csv('location_booktable.csv')\n",
    "df2 = pd.read_csv('location_booktable.csv')\n",
    "df2 = pd.pivot_table(df2, values=None, index=['location'], columns=['book_table'], fill_value=0, aggfunc=np.sum)\n",
    "df2"
   ]
  },
  {
   "cell_type": "code",
   "execution_count": 39,
   "id": "2d40f2ab",
   "metadata": {
    "execution": {
     "iopub.execute_input": "2021-10-14T18:52:19.043438Z",
     "iopub.status.busy": "2021-10-14T18:52:19.041115Z",
     "iopub.status.idle": "2021-10-14T18:52:19.961952Z",
     "shell.execute_reply": "2021-10-14T18:52:19.962451Z",
     "shell.execute_reply.started": "2021-10-14T18:44:24.739604Z"
    },
    "papermill": {
     "duration": 0.990796,
     "end_time": "2021-10-14T18:52:19.962662",
     "exception": false,
     "start_time": "2021-10-14T18:52:18.971866",
     "status": "completed"
    },
    "tags": []
   },
   "outputs": [
    {
     "data": {
      "text/plain": [
       "<AxesSubplot:xlabel='location'>"
      ]
     },
     "execution_count": 39,
     "metadata": {},
     "output_type": "execute_result"
    },
    {
     "data": {
      "image/png": "[encoded data removed]",
      "text/plain": [
       "<Figure size 1152x720 with 1 Axes>"
      ]
     },
     "metadata": {},
     "output_type": "display_data"
    }
   ],
   "source": [
    "df2.plot(kind = 'bar', figsize = (16,10))"
   ]
  },
  {
   "cell_type": "code",
   "execution_count": 40,
   "id": "9b4fca2c",
   "metadata": {
    "execution": {
     "iopub.execute_input": "2021-10-14T18:52:20.126519Z",
     "iopub.status.busy": "2021-10-14T18:52:20.125518Z",
     "iopub.status.idle": "2021-10-14T18:52:20.513796Z",
     "shell.execute_reply": "2021-10-14T18:52:20.512835Z",
     "shell.execute_reply.started": "2021-10-14T18:45:20.988828Z"
    },
    "papermill": {
     "duration": 0.48226,
     "end_time": "2021-10-14T18:52:20.513954",
     "exception": false,
     "start_time": "2021-10-14T18:52:20.031694",
     "status": "completed"
    },
    "tags": []
   },
   "outputs": [
    {
     "data": {
      "text/plain": [
       "<AxesSubplot:xlabel='type', ylabel='rate'>"
      ]
     },
     "execution_count": 40,
     "metadata": {},
     "output_type": "execute_result"
    },
    {
     "data": {
      "image/png": "[encoded data removed]",
      "text/plain": [
       "<Figure size 1008x576 with 1 Axes>"
      ]
     },
     "metadata": {},
     "output_type": "display_data"
    }
   ],
   "source": [
    "plt.figure(figsize = (14, 8))\n",
    "sb.boxplot(x = 'type', y = 'rate', data = df, palette = 'inferno')"
   ]
  },
  {
   "cell_type": "code",
   "execution_count": 41,
   "id": "bfd5b387",
   "metadata": {
    "execution": {
     "iopub.execute_input": "2021-10-14T18:52:20.664349Z",
     "iopub.status.busy": "2021-10-14T18:52:20.663648Z",
     "iopub.status.idle": "2021-10-14T18:52:20.710611Z",
     "shell.execute_reply": "2021-10-14T18:52:20.711116Z",
     "shell.execute_reply.started": "2021-10-14T18:46:41.749003Z"
    },
    "papermill": {
     "duration": 0.126639,
     "end_time": "2021-10-14T18:52:20.711300",
     "exception": false,
     "start_time": "2021-10-14T18:52:20.584661",
     "status": "completed"
    },
    "tags": []
   },
   "outputs": [
    {
     "data": {
      "text/html": [
       "<div>\n",
       "<style scoped>\n",
       "    .dataframe tbody tr th:only-of-type {\n",
       "        vertical-align: middle;\n",
       "    }\n",
       "\n",
       "    .dataframe tbody tr th {\n",
       "        vertical-align: top;\n",
       "    }\n",
       "\n",
       "    .dataframe thead tr th {\n",
       "        text-align: left;\n",
       "    }\n",
       "\n",
       "    .dataframe thead tr:last-of-type th {\n",
       "        text-align: right;\n",
       "    }\n",
       "</style>\n",
       "<table border=\"1\" class=\"dataframe\">\n",
       "  <thead>\n",
       "    <tr>\n",
       "      <th></th>\n",
       "      <th colspan=\"7\" halign=\"left\">name</th>\n",
       "    </tr>\n",
       "    <tr>\n",
       "      <th>type</th>\n",
       "      <th>Buffet</th>\n",
       "      <th>Cafes</th>\n",
       "      <th>Delivery</th>\n",
       "      <th>Desserts</th>\n",
       "      <th>Dine-out</th>\n",
       "      <th>Drinks &amp; nightlife</th>\n",
       "      <th>Pubs and bars</th>\n",
       "    </tr>\n",
       "    <tr>\n",
       "      <th>location</th>\n",
       "      <th></th>\n",
       "      <th></th>\n",
       "      <th></th>\n",
       "      <th></th>\n",
       "      <th></th>\n",
       "      <th></th>\n",
       "      <th></th>\n",
       "    </tr>\n",
       "  </thead>\n",
       "  <tbody>\n",
       "    <tr>\n",
       "      <th>BTM</th>\n",
       "      <td>21</td>\n",
       "      <td>83</td>\n",
       "      <td>3053</td>\n",
       "      <td>198</td>\n",
       "      <td>1660</td>\n",
       "      <td>22</td>\n",
       "      <td>19</td>\n",
       "    </tr>\n",
       "    <tr>\n",
       "      <th>Banashankari</th>\n",
       "      <td>7</td>\n",
       "      <td>36</td>\n",
       "      <td>418</td>\n",
       "      <td>71</td>\n",
       "      <td>356</td>\n",
       "      <td>14</td>\n",
       "      <td>0</td>\n",
       "    </tr>\n",
       "    <tr>\n",
       "      <th>Banaswadi</th>\n",
       "      <td>0</td>\n",
       "      <td>24</td>\n",
       "      <td>310</td>\n",
       "      <td>37</td>\n",
       "      <td>262</td>\n",
       "      <td>6</td>\n",
       "      <td>1</td>\n",
       "    </tr>\n",
       "    <tr>\n",
       "      <th>Bannerghatta Road</th>\n",
       "      <td>9</td>\n",
       "      <td>46</td>\n",
       "      <td>828</td>\n",
       "      <td>137</td>\n",
       "      <td>578</td>\n",
       "      <td>9</td>\n",
       "      <td>2</td>\n",
       "    </tr>\n",
       "    <tr>\n",
       "      <th>Basavanagudi</th>\n",
       "      <td>7</td>\n",
       "      <td>11</td>\n",
       "      <td>344</td>\n",
       "      <td>66</td>\n",
       "      <td>251</td>\n",
       "      <td>5</td>\n",
       "      <td>0</td>\n",
       "    </tr>\n",
       "    <tr>\n",
       "      <th>Bellandur</th>\n",
       "      <td>28</td>\n",
       "      <td>36</td>\n",
       "      <td>617</td>\n",
       "      <td>75</td>\n",
       "      <td>479</td>\n",
       "      <td>17</td>\n",
       "      <td>16</td>\n",
       "    </tr>\n",
       "    <tr>\n",
       "      <th>Brigade Road</th>\n",
       "      <td>25</td>\n",
       "      <td>46</td>\n",
       "      <td>497</td>\n",
       "      <td>108</td>\n",
       "      <td>455</td>\n",
       "      <td>57</td>\n",
       "      <td>22</td>\n",
       "    </tr>\n",
       "    <tr>\n",
       "      <th>Brookefield</th>\n",
       "      <td>6</td>\n",
       "      <td>17</td>\n",
       "      <td>339</td>\n",
       "      <td>45</td>\n",
       "      <td>245</td>\n",
       "      <td>4</td>\n",
       "      <td>0</td>\n",
       "    </tr>\n",
       "    <tr>\n",
       "      <th>Church Street</th>\n",
       "      <td>19</td>\n",
       "      <td>51</td>\n",
       "      <td>193</td>\n",
       "      <td>29</td>\n",
       "      <td>215</td>\n",
       "      <td>36</td>\n",
       "      <td>23</td>\n",
       "    </tr>\n",
       "    <tr>\n",
       "      <th>Commercial Street</th>\n",
       "      <td>0</td>\n",
       "      <td>13</td>\n",
       "      <td>121</td>\n",
       "      <td>77</td>\n",
       "      <td>159</td>\n",
       "      <td>0</td>\n",
       "      <td>0</td>\n",
       "    </tr>\n",
       "    <tr>\n",
       "      <th>Cunningham Road</th>\n",
       "      <td>29</td>\n",
       "      <td>34</td>\n",
       "      <td>194</td>\n",
       "      <td>26</td>\n",
       "      <td>184</td>\n",
       "      <td>16</td>\n",
       "      <td>7</td>\n",
       "    </tr>\n",
       "    <tr>\n",
       "      <th>Domlur</th>\n",
       "      <td>15</td>\n",
       "      <td>13</td>\n",
       "      <td>261</td>\n",
       "      <td>35</td>\n",
       "      <td>135</td>\n",
       "      <td>12</td>\n",
       "      <td>11</td>\n",
       "    </tr>\n",
       "    <tr>\n",
       "      <th>Ejipura</th>\n",
       "      <td>0</td>\n",
       "      <td>0</td>\n",
       "      <td>245</td>\n",
       "      <td>16</td>\n",
       "      <td>172</td>\n",
       "      <td>0</td>\n",
       "      <td>0</td>\n",
       "    </tr>\n",
       "    <tr>\n",
       "      <th>Electronic City</th>\n",
       "      <td>23</td>\n",
       "      <td>24</td>\n",
       "      <td>570</td>\n",
       "      <td>71</td>\n",
       "      <td>516</td>\n",
       "      <td>21</td>\n",
       "      <td>21</td>\n",
       "    </tr>\n",
       "    <tr>\n",
       "      <th>Frazer Town</th>\n",
       "      <td>1</td>\n",
       "      <td>11</td>\n",
       "      <td>470</td>\n",
       "      <td>56</td>\n",
       "      <td>172</td>\n",
       "      <td>2</td>\n",
       "      <td>2</td>\n",
       "    </tr>\n",
       "    <tr>\n",
       "      <th>HSR</th>\n",
       "      <td>19</td>\n",
       "      <td>49</td>\n",
       "      <td>1694</td>\n",
       "      <td>120</td>\n",
       "      <td>580</td>\n",
       "      <td>14</td>\n",
       "      <td>18</td>\n",
       "    </tr>\n",
       "    <tr>\n",
       "      <th>Indiranagar</th>\n",
       "      <td>38</td>\n",
       "      <td>97</td>\n",
       "      <td>1091</td>\n",
       "      <td>140</td>\n",
       "      <td>529</td>\n",
       "      <td>65</td>\n",
       "      <td>66</td>\n",
       "    </tr>\n",
       "    <tr>\n",
       "      <th>JP Nagar</th>\n",
       "      <td>45</td>\n",
       "      <td>76</td>\n",
       "      <td>1151</td>\n",
       "      <td>166</td>\n",
       "      <td>722</td>\n",
       "      <td>51</td>\n",
       "      <td>7</td>\n",
       "    </tr>\n",
       "    <tr>\n",
       "      <th>Jayanagar</th>\n",
       "      <td>27</td>\n",
       "      <td>77</td>\n",
       "      <td>1043</td>\n",
       "      <td>182</td>\n",
       "      <td>575</td>\n",
       "      <td>12</td>\n",
       "      <td>0</td>\n",
       "    </tr>\n",
       "    <tr>\n",
       "      <th>Kalyan Nagar</th>\n",
       "      <td>9</td>\n",
       "      <td>45</td>\n",
       "      <td>366</td>\n",
       "      <td>88</td>\n",
       "      <td>315</td>\n",
       "      <td>18</td>\n",
       "      <td>0</td>\n",
       "    </tr>\n",
       "    <tr>\n",
       "      <th>Kammanahalli</th>\n",
       "      <td>2</td>\n",
       "      <td>27</td>\n",
       "      <td>329</td>\n",
       "      <td>35</td>\n",
       "      <td>240</td>\n",
       "      <td>6</td>\n",
       "      <td>0</td>\n",
       "    </tr>\n",
       "    <tr>\n",
       "      <th>Koramangala 1st Block</th>\n",
       "      <td>3</td>\n",
       "      <td>26</td>\n",
       "      <td>716</td>\n",
       "      <td>70</td>\n",
       "      <td>398</td>\n",
       "      <td>7</td>\n",
       "      <td>16</td>\n",
       "    </tr>\n",
       "    <tr>\n",
       "      <th>Koramangala 4th Block</th>\n",
       "      <td>21</td>\n",
       "      <td>53</td>\n",
       "      <td>464</td>\n",
       "      <td>81</td>\n",
       "      <td>302</td>\n",
       "      <td>62</td>\n",
       "      <td>34</td>\n",
       "    </tr>\n",
       "    <tr>\n",
       "      <th>Koramangala 5th Block</th>\n",
       "      <td>65</td>\n",
       "      <td>146</td>\n",
       "      <td>1075</td>\n",
       "      <td>209</td>\n",
       "      <td>842</td>\n",
       "      <td>84</td>\n",
       "      <td>58</td>\n",
       "    </tr>\n",
       "    <tr>\n",
       "      <th>Koramangala 6th Block</th>\n",
       "      <td>18</td>\n",
       "      <td>43</td>\n",
       "      <td>511</td>\n",
       "      <td>70</td>\n",
       "      <td>411</td>\n",
       "      <td>51</td>\n",
       "      <td>23</td>\n",
       "    </tr>\n",
       "    <tr>\n",
       "      <th>Koramangala 7th Block</th>\n",
       "      <td>25</td>\n",
       "      <td>52</td>\n",
       "      <td>503</td>\n",
       "      <td>127</td>\n",
       "      <td>417</td>\n",
       "      <td>25</td>\n",
       "      <td>25</td>\n",
       "    </tr>\n",
       "    <tr>\n",
       "      <th>Lavelle Road</th>\n",
       "      <td>30</td>\n",
       "      <td>27</td>\n",
       "      <td>127</td>\n",
       "      <td>50</td>\n",
       "      <td>191</td>\n",
       "      <td>59</td>\n",
       "      <td>34</td>\n",
       "    </tr>\n",
       "    <tr>\n",
       "      <th>MG Road</th>\n",
       "      <td>51</td>\n",
       "      <td>76</td>\n",
       "      <td>266</td>\n",
       "      <td>68</td>\n",
       "      <td>343</td>\n",
       "      <td>53</td>\n",
       "      <td>36</td>\n",
       "    </tr>\n",
       "    <tr>\n",
       "      <th>Malleshwaram</th>\n",
       "      <td>11</td>\n",
       "      <td>31</td>\n",
       "      <td>269</td>\n",
       "      <td>85</td>\n",
       "      <td>291</td>\n",
       "      <td>20</td>\n",
       "      <td>14</td>\n",
       "    </tr>\n",
       "    <tr>\n",
       "      <th>Marathahalli</th>\n",
       "      <td>34</td>\n",
       "      <td>32</td>\n",
       "      <td>980</td>\n",
       "      <td>105</td>\n",
       "      <td>630</td>\n",
       "      <td>22</td>\n",
       "      <td>2</td>\n",
       "    </tr>\n",
       "    <tr>\n",
       "      <th>New BEL Road</th>\n",
       "      <td>4</td>\n",
       "      <td>29</td>\n",
       "      <td>338</td>\n",
       "      <td>33</td>\n",
       "      <td>224</td>\n",
       "      <td>8</td>\n",
       "      <td>8</td>\n",
       "    </tr>\n",
       "    <tr>\n",
       "      <th>Old Airport Road</th>\n",
       "      <td>12</td>\n",
       "      <td>5</td>\n",
       "      <td>200</td>\n",
       "      <td>35</td>\n",
       "      <td>164</td>\n",
       "      <td>12</td>\n",
       "      <td>9</td>\n",
       "    </tr>\n",
       "    <tr>\n",
       "      <th>Rajajinagar</th>\n",
       "      <td>10</td>\n",
       "      <td>4</td>\n",
       "      <td>258</td>\n",
       "      <td>55</td>\n",
       "      <td>251</td>\n",
       "      <td>3</td>\n",
       "      <td>10</td>\n",
       "    </tr>\n",
       "    <tr>\n",
       "      <th>Residency Road</th>\n",
       "      <td>20</td>\n",
       "      <td>31</td>\n",
       "      <td>187</td>\n",
       "      <td>63</td>\n",
       "      <td>289</td>\n",
       "      <td>55</td>\n",
       "      <td>26</td>\n",
       "    </tr>\n",
       "    <tr>\n",
       "      <th>Richmond Road</th>\n",
       "      <td>63</td>\n",
       "      <td>21</td>\n",
       "      <td>257</td>\n",
       "      <td>78</td>\n",
       "      <td>356</td>\n",
       "      <td>16</td>\n",
       "      <td>12</td>\n",
       "    </tr>\n",
       "    <tr>\n",
       "      <th>Sarjapur Road</th>\n",
       "      <td>25</td>\n",
       "      <td>22</td>\n",
       "      <td>558</td>\n",
       "      <td>82</td>\n",
       "      <td>319</td>\n",
       "      <td>19</td>\n",
       "      <td>22</td>\n",
       "    </tr>\n",
       "    <tr>\n",
       "      <th>Shanti Nagar</th>\n",
       "      <td>9</td>\n",
       "      <td>22</td>\n",
       "      <td>198</td>\n",
       "      <td>39</td>\n",
       "      <td>229</td>\n",
       "      <td>9</td>\n",
       "      <td>2</td>\n",
       "    </tr>\n",
       "    <tr>\n",
       "      <th>Shivajinagar</th>\n",
       "      <td>6</td>\n",
       "      <td>17</td>\n",
       "      <td>143</td>\n",
       "      <td>37</td>\n",
       "      <td>280</td>\n",
       "      <td>7</td>\n",
       "      <td>8</td>\n",
       "    </tr>\n",
       "    <tr>\n",
       "      <th>St. Marks Road</th>\n",
       "      <td>5</td>\n",
       "      <td>10</td>\n",
       "      <td>111</td>\n",
       "      <td>10</td>\n",
       "      <td>145</td>\n",
       "      <td>40</td>\n",
       "      <td>22</td>\n",
       "    </tr>\n",
       "    <tr>\n",
       "      <th>Ulsoor</th>\n",
       "      <td>16</td>\n",
       "      <td>56</td>\n",
       "      <td>456</td>\n",
       "      <td>71</td>\n",
       "      <td>359</td>\n",
       "      <td>23</td>\n",
       "      <td>30</td>\n",
       "    </tr>\n",
       "    <tr>\n",
       "      <th>Whitefield</th>\n",
       "      <td>28</td>\n",
       "      <td>51</td>\n",
       "      <td>1041</td>\n",
       "      <td>137</td>\n",
       "      <td>768</td>\n",
       "      <td>47</td>\n",
       "      <td>33</td>\n",
       "    </tr>\n",
       "    <tr>\n",
       "      <th>others</th>\n",
       "      <td>83</td>\n",
       "      <td>133</td>\n",
       "      <td>2787</td>\n",
       "      <td>276</td>\n",
       "      <td>1553</td>\n",
       "      <td>75</td>\n",
       "      <td>47</td>\n",
       "    </tr>\n",
       "  </tbody>\n",
       "</table>\n",
       "</div>"
      ],
      "text/plain": [
       "                        name                                   \\\n",
       "type                  Buffet Cafes Delivery Desserts Dine-out   \n",
       "location                                                        \n",
       "BTM                       21    83     3053      198     1660   \n",
       "Banashankari               7    36      418       71      356   \n",
       "Banaswadi                  0    24      310       37      262   \n",
       "Bannerghatta Road          9    46      828      137      578   \n",
       "Basavanagudi               7    11      344       66      251   \n",
       "Bellandur                 28    36      617       75      479   \n",
       "Brigade Road              25    46      497      108      455   \n",
       "Brookefield                6    17      339       45      245   \n",
       "Church Street             19    51      193       29      215   \n",
       "Commercial Street          0    13      121       77      159   \n",
       "Cunningham Road           29    34      194       26      184   \n",
       "Domlur                    15    13      261       35      135   \n",
       "Ejipura                    0     0      245       16      172   \n",
       "Electronic City           23    24      570       71      516   \n",
       "Frazer Town                1    11      470       56      172   \n",
       "HSR                       19    49     1694      120      580   \n",
       "Indiranagar               38    97     1091      140      529   \n",
       "JP Nagar                  45    76     1151      166      722   \n",
       "Jayanagar                 27    77     1043      182      575   \n",
       "Kalyan Nagar               9    45      366       88      315   \n",
       "Kammanahalli               2    27      329       35      240   \n",
       "Koramangala 1st Block      3    26      716       70      398   \n",
       "Koramangala 4th Block     21    53      464       81      302   \n",
       "Koramangala 5th Block     65   146     1075      209      842   \n",
       "Koramangala 6th Block     18    43      511       70      411   \n",
       "Koramangala 7th Block     25    52      503      127      417   \n",
       "Lavelle Road              30    27      127       50      191   \n",
       "MG Road                   51    76      266       68      343   \n",
       "Malleshwaram              11    31      269       85      291   \n",
       "Marathahalli              34    32      980      105      630   \n",
       "New BEL Road               4    29      338       33      224   \n",
       "Old Airport Road          12     5      200       35      164   \n",
       "Rajajinagar               10     4      258       55      251   \n",
       "Residency Road            20    31      187       63      289   \n",
       "Richmond Road             63    21      257       78      356   \n",
       "Sarjapur Road             25    22      558       82      319   \n",
       "Shanti Nagar               9    22      198       39      229   \n",
       "Shivajinagar               6    17      143       37      280   \n",
       "St. Marks Road             5    10      111       10      145   \n",
       "Ulsoor                    16    56      456       71      359   \n",
       "Whitefield                28    51     1041      137      768   \n",
       "others                    83   133     2787      276     1553   \n",
       "\n",
       "                                                        \n",
       "type                  Drinks & nightlife Pubs and bars  \n",
       "location                                                \n",
       "BTM                                   22            19  \n",
       "Banashankari                          14             0  \n",
       "Banaswadi                              6             1  \n",
       "Bannerghatta Road                      9             2  \n",
       "Basavanagudi                           5             0  \n",
       "Bellandur                             17            16  \n",
       "Brigade Road                          57            22  \n",
       "Brookefield                            4             0  \n",
       "Church Street                         36            23  \n",
       "Commercial Street                      0             0  \n",
       "Cunningham Road                       16             7  \n",
       "Domlur                                12            11  \n",
       "Ejipura                                0             0  \n",
       "Electronic City                       21            21  \n",
       "Frazer Town                            2             2  \n",
       "HSR                                   14            18  \n",
       "Indiranagar                           65            66  \n",
       "JP Nagar                              51             7  \n",
       "Jayanagar                             12             0  \n",
       "Kalyan Nagar                          18             0  \n",
       "Kammanahalli                           6             0  \n",
       "Koramangala 1st Block                  7            16  \n",
       "Koramangala 4th Block                 62            34  \n",
       "Koramangala 5th Block                 84            58  \n",
       "Koramangala 6th Block                 51            23  \n",
       "Koramangala 7th Block                 25            25  \n",
       "Lavelle Road                          59            34  \n",
       "MG Road                               53            36  \n",
       "Malleshwaram                          20            14  \n",
       "Marathahalli                          22             2  \n",
       "New BEL Road                           8             8  \n",
       "Old Airport Road                      12             9  \n",
       "Rajajinagar                            3            10  \n",
       "Residency Road                        55            26  \n",
       "Richmond Road                         16            12  \n",
       "Sarjapur Road                         19            22  \n",
       "Shanti Nagar                           9             2  \n",
       "Shivajinagar                           7             8  \n",
       "St. Marks Road                        40            22  \n",
       "Ulsoor                                23            30  \n",
       "Whitefield                            47            33  \n",
       "others                                75            47  "
      ]
     },
     "execution_count": 41,
     "metadata": {},
     "output_type": "execute_result"
    }
   ],
   "source": [
    "df3 = df.groupby(['location','type'])['name'].count()\n",
    "df3.to_csv('location_type.csv')\n",
    "df3 = pd.read_csv('location_type.csv')\n",
    "df3 = pd.pivot_table(df3, values=None, index=['location'], columns=['type'], fill_value=0, aggfunc=np.sum)\n",
    "df3"
   ]
  },
  {
   "cell_type": "code",
   "execution_count": 42,
   "id": "96523620",
   "metadata": {
    "execution": {
     "iopub.execute_input": "2021-10-14T18:52:20.853351Z",
     "iopub.status.busy": "2021-10-14T18:52:20.852698Z",
     "iopub.status.idle": "2021-10-14T18:52:22.637770Z",
     "shell.execute_reply": "2021-10-14T18:52:22.638320Z",
     "shell.execute_reply.started": "2021-10-14T18:47:25.998529Z"
    },
    "papermill": {
     "duration": 1.857779,
     "end_time": "2021-10-14T18:52:22.638506",
     "exception": false,
     "start_time": "2021-10-14T18:52:20.780727",
     "status": "completed"
    },
    "tags": []
   },
   "outputs": [
    {
     "data": {
      "text/plain": [
       "<AxesSubplot:xlabel='location'>"
      ]
     },
     "execution_count": 42,
     "metadata": {},
     "output_type": "execute_result"
    },
    {
     "data": {
      "image/png": "[encoded data removed]",
      "text/plain": [
       "<Figure size 2592x576 with 1 Axes>"
      ]
     },
     "metadata": {},
     "output_type": "display_data"
    }
   ],
   "source": [
    "df3.plot(kind = 'bar', figsize = (36,8))"
   ]
  },
  {
   "cell_type": "code",
   "execution_count": 43,
   "id": "a90c0e72",
   "metadata": {
    "execution": {
     "iopub.execute_input": "2021-10-14T18:52:22.791723Z",
     "iopub.status.busy": "2021-10-14T18:52:22.790604Z",
     "iopub.status.idle": "2021-10-14T18:52:22.815802Z",
     "shell.execute_reply": "2021-10-14T18:52:22.816330Z",
     "shell.execute_reply.started": "2021-10-14T18:48:19.937876Z"
    },
    "papermill": {
     "duration": 0.104989,
     "end_time": "2021-10-14T18:52:22.816506",
     "exception": false,
     "start_time": "2021-10-14T18:52:22.711517",
     "status": "completed"
    },
    "tags": []
   },
   "outputs": [
    {
     "data": {
      "text/html": [
       "<div>\n",
       "<style scoped>\n",
       "    .dataframe tbody tr th:only-of-type {\n",
       "        vertical-align: middle;\n",
       "    }\n",
       "\n",
       "    .dataframe tbody tr th {\n",
       "        vertical-align: top;\n",
       "    }\n",
       "\n",
       "    .dataframe thead th {\n",
       "        text-align: right;\n",
       "    }\n",
       "</style>\n",
       "<table border=\"1\" class=\"dataframe\">\n",
       "  <thead>\n",
       "    <tr style=\"text-align: right;\">\n",
       "      <th></th>\n",
       "      <th>votes</th>\n",
       "    </tr>\n",
       "    <tr>\n",
       "      <th>location</th>\n",
       "      <th></th>\n",
       "    </tr>\n",
       "  </thead>\n",
       "  <tbody>\n",
       "    <tr>\n",
       "      <th>Koramangala 5th Block</th>\n",
       "      <td>2214083</td>\n",
       "    </tr>\n",
       "    <tr>\n",
       "      <th>Indiranagar</th>\n",
       "      <td>1165909</td>\n",
       "    </tr>\n",
       "    <tr>\n",
       "      <th>Koramangala 4th Block</th>\n",
       "      <td>685156</td>\n",
       "    </tr>\n",
       "    <tr>\n",
       "      <th>Church Street</th>\n",
       "      <td>590306</td>\n",
       "    </tr>\n",
       "    <tr>\n",
       "      <th>JP Nagar</th>\n",
       "      <td>586522</td>\n",
       "    </tr>\n",
       "  </tbody>\n",
       "</table>\n",
       "</div>"
      ],
      "text/plain": [
       "                         votes\n",
       "location                      \n",
       "Koramangala 5th Block  2214083\n",
       "Indiranagar            1165909\n",
       "Koramangala 4th Block   685156\n",
       "Church Street           590306\n",
       "JP Nagar                586522"
      ]
     },
     "execution_count": 43,
     "metadata": {},
     "output_type": "execute_result"
    }
   ],
   "source": [
    "df4 = df[['location', 'votes']]\n",
    "df4.drop_duplicates()\n",
    "df5 = df4.groupby(['location'])['votes'].sum()\n",
    "df5 = df5.to_frame()\n",
    "df5 = df5.sort_values('votes', ascending=False)\n",
    "df5.head()"
   ]
  },
  {
   "cell_type": "code",
   "execution_count": 44,
   "id": "76f9bcfe",
   "metadata": {
    "execution": {
     "iopub.execute_input": "2021-10-14T18:52:23.025398Z",
     "iopub.status.busy": "2021-10-14T18:52:22.969427Z",
     "iopub.status.idle": "2021-10-14T18:52:23.605627Z",
     "shell.execute_reply": "2021-10-14T18:52:23.606135Z",
     "shell.execute_reply.started": "2021-10-14T18:48:53.858121Z"
    },
    "papermill": {
     "duration": 0.713406,
     "end_time": "2021-10-14T18:52:23.606318",
     "exception": false,
     "start_time": "2021-10-14T18:52:22.892912",
     "status": "completed"
    },
    "tags": []
   },
   "outputs": [
    {
     "name": "stderr",
     "output_type": "stream",
     "text": [
      "/opt/conda/lib/python3.7/site-packages/seaborn/_decorators.py:43: FutureWarning: Pass the following variables as keyword args: x, y. From version 0.12, the only valid positional argument will be `data`, and passing other arguments without an explicit keyword will result in an error or misinterpretation.\n",
      "  FutureWarning\n"
     ]
    },
    {
     "data": {
      "text/plain": [
       "(array([ 0,  1,  2,  3,  4,  5,  6,  7,  8,  9, 10, 11, 12, 13, 14, 15, 16,\n",
       "        17, 18, 19, 20, 21, 22, 23, 24, 25, 26, 27, 28, 29, 30, 31, 32, 33,\n",
       "        34, 35, 36, 37, 38, 39, 40, 41]),\n",
       " [Text(0, 0, 'Koramangala 5th Block'),\n",
       "  Text(1, 0, 'Indiranagar'),\n",
       "  Text(2, 0, 'Koramangala 4th Block'),\n",
       "  Text(3, 0, 'Church Street'),\n",
       "  Text(4, 0, 'JP Nagar'),\n",
       "  Text(5, 0, 'BTM'),\n",
       "  Text(6, 0, 'others'),\n",
       "  Text(7, 0, 'HSR'),\n",
       "  Text(8, 0, 'Lavelle Road'),\n",
       "  Text(9, 0, 'Koramangala 7th Block'),\n",
       "  Text(10, 0, 'Jayanagar'),\n",
       "  Text(11, 0, 'Whitefield'),\n",
       "  Text(12, 0, 'Koramangala 6th Block'),\n",
       "  Text(13, 0, 'Marathahalli'),\n",
       "  Text(14, 0, 'MG Road'),\n",
       "  Text(15, 0, 'Brigade Road'),\n",
       "  Text(16, 0, 'Sarjapur Road'),\n",
       "  Text(17, 0, 'Residency Road'),\n",
       "  Text(18, 0, 'Cunningham Road'),\n",
       "  Text(19, 0, 'St. Marks Road'),\n",
       "  Text(20, 0, 'Koramangala 1st Block'),\n",
       "  Text(21, 0, 'Malleshwaram'),\n",
       "  Text(22, 0, 'Bannerghatta Road'),\n",
       "  Text(23, 0, 'Bellandur'),\n",
       "  Text(24, 0, 'Ulsoor'),\n",
       "  Text(25, 0, 'New BEL Road'),\n",
       "  Text(26, 0, 'Kalyan Nagar'),\n",
       "  Text(27, 0, 'Banashankari'),\n",
       "  Text(28, 0, 'Old Airport Road'),\n",
       "  Text(29, 0, 'Brookefield'),\n",
       "  Text(30, 0, 'Richmond Road'),\n",
       "  Text(31, 0, 'Electronic City'),\n",
       "  Text(32, 0, 'Kammanahalli'),\n",
       "  Text(33, 0, 'Frazer Town'),\n",
       "  Text(34, 0, 'Domlur'),\n",
       "  Text(35, 0, 'Basavanagudi'),\n",
       "  Text(36, 0, 'Rajajinagar'),\n",
       "  Text(37, 0, 'Shanti Nagar'),\n",
       "  Text(38, 0, 'Banaswadi'),\n",
       "  Text(39, 0, 'Commercial Street'),\n",
       "  Text(40, 0, 'Ejipura'),\n",
       "  Text(41, 0, 'Shivajinagar')])"
      ]
     },
     "execution_count": 44,
     "metadata": {},
     "output_type": "execute_result"
    },
    {
     "data": {
      "image/png": "[encoded data removed]",
      "text/plain": [
       "<Figure size 1080x576 with 1 Axes>"
      ]
     },
     "metadata": {},
     "output_type": "display_data"
    }
   ],
   "source": [
    "plt.figure(figsize = (15,8))\n",
    "sb.barplot(df5.index , df5['votes'])\n",
    "plt.xticks(rotation = 90)"
   ]
  },
  {
   "cell_type": "code",
   "execution_count": 45,
   "id": "2dd0a565",
   "metadata": {
    "execution": {
     "iopub.execute_input": "2021-10-14T18:52:23.770068Z",
     "iopub.status.busy": "2021-10-14T18:52:23.769302Z",
     "iopub.status.idle": "2021-10-14T18:52:23.789940Z",
     "shell.execute_reply": "2021-10-14T18:52:23.790427Z",
     "shell.execute_reply.started": "2021-10-14T18:49:33.037746Z"
    },
    "papermill": {
     "duration": 0.108266,
     "end_time": "2021-10-14T18:52:23.790635",
     "exception": false,
     "start_time": "2021-10-14T18:52:23.682369",
     "status": "completed"
    },
    "tags": []
   },
   "outputs": [
    {
     "data": {
      "text/html": [
       "<div>\n",
       "<style scoped>\n",
       "    .dataframe tbody tr th:only-of-type {\n",
       "        vertical-align: middle;\n",
       "    }\n",
       "\n",
       "    .dataframe tbody tr th {\n",
       "        vertical-align: top;\n",
       "    }\n",
       "\n",
       "    .dataframe thead th {\n",
       "        text-align: right;\n",
       "    }\n",
       "</style>\n",
       "<table border=\"1\" class=\"dataframe\">\n",
       "  <thead>\n",
       "    <tr style=\"text-align: right;\">\n",
       "      <th></th>\n",
       "      <th>votes</th>\n",
       "    </tr>\n",
       "    <tr>\n",
       "      <th>cuisines</th>\n",
       "      <th></th>\n",
       "    </tr>\n",
       "  </thead>\n",
       "  <tbody>\n",
       "    <tr>\n",
       "      <th>others</th>\n",
       "      <td>11542182</td>\n",
       "    </tr>\n",
       "    <tr>\n",
       "      <th>North Indian</th>\n",
       "      <td>516310</td>\n",
       "    </tr>\n",
       "    <tr>\n",
       "      <th>North Indian, Chinese</th>\n",
       "      <td>258225</td>\n",
       "    </tr>\n",
       "    <tr>\n",
       "      <th>South Indian</th>\n",
       "      <td>161975</td>\n",
       "    </tr>\n",
       "    <tr>\n",
       "      <th>North Indian, Mughlai</th>\n",
       "      <td>103706</td>\n",
       "    </tr>\n",
       "  </tbody>\n",
       "</table>\n",
       "</div>"
      ],
      "text/plain": [
       "                          votes\n",
       "cuisines                       \n",
       "others                 11542182\n",
       "North Indian             516310\n",
       "North Indian, Chinese    258225\n",
       "South Indian             161975\n",
       "North Indian, Mughlai    103706"
      ]
     },
     "execution_count": 45,
     "metadata": {},
     "output_type": "execute_result"
    }
   ],
   "source": [
    "df6 = df[['cuisines', 'votes']]\n",
    "df6.drop_duplicates()\n",
    "df7 = df6.groupby(['cuisines'])['votes'].sum()\n",
    "df7 = df7.to_frame()\n",
    "df7 = df7.sort_values('votes', ascending=False)\n",
    "df7.head()"
   ]
  },
  {
   "cell_type": "code",
   "execution_count": 46,
   "id": "439f3c42",
   "metadata": {
    "execution": {
     "iopub.execute_input": "2021-10-14T18:52:23.952623Z",
     "iopub.status.busy": "2021-10-14T18:52:23.951777Z",
     "iopub.status.idle": "2021-10-14T18:52:23.956178Z",
     "shell.execute_reply": "2021-10-14T18:52:23.955513Z",
     "shell.execute_reply.started": "2021-10-14T18:49:50.208342Z"
    },
    "papermill": {
     "duration": 0.089972,
     "end_time": "2021-10-14T18:52:23.956322",
     "exception": false,
     "start_time": "2021-10-14T18:52:23.866350",
     "status": "completed"
    },
    "tags": []
   },
   "outputs": [
    {
     "data": {
      "text/html": [
       "<div>\n",
       "<style scoped>\n",
       "    .dataframe tbody tr th:only-of-type {\n",
       "        vertical-align: middle;\n",
       "    }\n",
       "\n",
       "    .dataframe tbody tr th {\n",
       "        vertical-align: top;\n",
       "    }\n",
       "\n",
       "    .dataframe thead th {\n",
       "        text-align: right;\n",
       "    }\n",
       "</style>\n",
       "<table border=\"1\" class=\"dataframe\">\n",
       "  <thead>\n",
       "    <tr style=\"text-align: right;\">\n",
       "      <th></th>\n",
       "      <th>votes</th>\n",
       "    </tr>\n",
       "    <tr>\n",
       "      <th>cuisines</th>\n",
       "      <th></th>\n",
       "    </tr>\n",
       "  </thead>\n",
       "  <tbody>\n",
       "    <tr>\n",
       "      <th>North Indian</th>\n",
       "      <td>516310</td>\n",
       "    </tr>\n",
       "    <tr>\n",
       "      <th>North Indian, Chinese</th>\n",
       "      <td>258225</td>\n",
       "    </tr>\n",
       "    <tr>\n",
       "      <th>South Indian</th>\n",
       "      <td>161975</td>\n",
       "    </tr>\n",
       "    <tr>\n",
       "      <th>North Indian, Mughlai</th>\n",
       "      <td>103706</td>\n",
       "    </tr>\n",
       "    <tr>\n",
       "      <th>Chinese</th>\n",
       "      <td>101728</td>\n",
       "    </tr>\n",
       "  </tbody>\n",
       "</table>\n",
       "</div>"
      ],
      "text/plain": [
       "                        votes\n",
       "cuisines                     \n",
       "North Indian           516310\n",
       "North Indian, Chinese  258225\n",
       "South Indian           161975\n",
       "North Indian, Mughlai  103706\n",
       "Chinese                101728"
      ]
     },
     "execution_count": 46,
     "metadata": {},
     "output_type": "execute_result"
    }
   ],
   "source": [
    "df7 = df7.iloc[1:, :]\n",
    "df7.head()"
   ]
  },
  {
   "cell_type": "code",
   "execution_count": 47,
   "id": "147a2d0c",
   "metadata": {
    "execution": {
     "iopub.execute_input": "2021-10-14T18:52:24.117407Z",
     "iopub.status.busy": "2021-10-14T18:52:24.116731Z",
     "iopub.status.idle": "2021-10-14T18:52:25.948771Z",
     "shell.execute_reply": "2021-10-14T18:52:25.949280Z",
     "shell.execute_reply.started": "2021-10-14T18:50:23.709395Z"
    },
    "papermill": {
     "duration": 1.914538,
     "end_time": "2021-10-14T18:52:25.949454",
     "exception": false,
     "start_time": "2021-10-14T18:52:24.034916",
     "status": "completed"
    },
    "tags": []
   },
   "outputs": [
    {
     "name": "stderr",
     "output_type": "stream",
     "text": [
      "/opt/conda/lib/python3.7/site-packages/seaborn/_decorators.py:43: FutureWarning: Pass the following variables as keyword args: x, y. From version 0.12, the only valid positional argument will be `data`, and passing other arguments without an explicit keyword will result in an error or misinterpretation.\n",
      "  FutureWarning\n"
     ]
    },
    {
     "data": {
      "text/plain": [
       "(array([ 0,  1,  2,  3,  4,  5,  6,  7,  8,  9, 10, 11, 12, 13, 14, 15, 16,\n",
       "        17, 18, 19, 20, 21, 22, 23, 24, 25, 26, 27, 28, 29, 30, 31, 32, 33,\n",
       "        34, 35, 36, 37, 38, 39, 40, 41, 42, 43, 44, 45, 46, 47, 48, 49, 50,\n",
       "        51, 52, 53, 54, 55, 56, 57, 58, 59, 60, 61, 62, 63, 64, 65, 66, 67,\n",
       "        68]),\n",
       " [Text(0, 0, 'North Indian'),\n",
       "  Text(1, 0, 'North Indian, Chinese'),\n",
       "  Text(2, 0, 'South Indian'),\n",
       "  Text(3, 0, 'North Indian, Mughlai'),\n",
       "  Text(4, 0, 'Chinese'),\n",
       "  Text(5, 0, 'Cafe'),\n",
       "  Text(6, 0, 'North Indian, South Indian'),\n",
       "  Text(7, 0, 'Desserts'),\n",
       "  Text(8, 0, 'Chinese, Momos'),\n",
       "  Text(9, 0, 'Ice Cream, Desserts'),\n",
       "  Text(10, 0, 'Cafe, Continental'),\n",
       "  Text(11, 0, 'Biryani, North Indian, Chinese'),\n",
       "  Text(12, 0, 'Chinese, Thai, Momos'),\n",
       "  Text(13, 0, 'South Indian, North Indian, Chinese'),\n",
       "  Text(14, 0, 'Desserts, Beverages'),\n",
       "  Text(15, 0, 'Biryani'),\n",
       "  Text(16, 0, 'Finger Food'),\n",
       "  Text(17, 0, 'Bakery, Desserts'),\n",
       "  Text(18, 0, 'Burger, Fast Food'),\n",
       "  Text(19, 0, 'Continental'),\n",
       "  Text(20, 0, 'Cafe, Desserts'),\n",
       "  Text(21, 0, 'Andhra, Biryani'),\n",
       "  Text(22, 0, 'North Indian, Continental'),\n",
       "  Text(23, 0, 'Pizza, Fast Food'),\n",
       "  Text(24, 0, 'Chinese, Thai'),\n",
       "  Text(25, 0, 'North Indian, Chinese, Biryani'),\n",
       "  Text(26, 0, 'South Indian, North Indian, Chinese, Street Food'),\n",
       "  Text(27, 0, 'Mithai, Street Food'),\n",
       "  Text(28, 0, 'North Indian, South Indian, Chinese'),\n",
       "  Text(29, 0, 'Desserts, Ice Cream'),\n",
       "  Text(30, 0, 'Biryani, North Indian'),\n",
       "  Text(31, 0, 'North Indian, Street Food'),\n",
       "  Text(32, 0, 'Fast Food'),\n",
       "  Text(33, 0, 'North Indian, Chinese, Seafood'),\n",
       "  Text(34, 0, 'Chinese, North Indian'),\n",
       "  Text(35, 0, 'North Indian, Biryani'),\n",
       "  Text(36, 0, 'Biryani, Kebab'),\n",
       "  Text(37, 0, 'Italian, Pizza'),\n",
       "  Text(38, 0, 'North Indian, Chinese, Fast Food'),\n",
       "  Text(39, 0, 'North Indian, Chinese, Continental'),\n",
       "  Text(40, 0, 'Desserts, Bakery'),\n",
       "  Text(41, 0, 'Arabian'),\n",
       "  Text(42, 0, 'North Indian, Chinese, South Indian'),\n",
       "  Text(43, 0, 'Pizza'),\n",
       "  Text(44, 0, 'South Indian, North Indian'),\n",
       "  Text(45, 0, 'North Indian, Mughlai, Chinese'),\n",
       "  Text(46, 0, 'Beverages, Fast Food'),\n",
       "  Text(47, 0, 'South Indian, Biryani'),\n",
       "  Text(48, 0, 'Fast Food, Rolls'),\n",
       "  Text(49, 0, 'Bakery'),\n",
       "  Text(50, 0, 'Andhra'),\n",
       "  Text(51, 0, 'Street Food'),\n",
       "  Text(52, 0, 'Kerala'),\n",
       "  Text(53, 0, 'Cafe, Bakery'),\n",
       "  Text(54, 0, 'Biryani, Fast Food'),\n",
       "  Text(55, 0, 'South Indian, Fast Food'),\n",
       "  Text(56, 0, 'North Indian, Fast Food'),\n",
       "  Text(57, 0, 'Bakery, Fast Food'),\n",
       "  Text(58, 0, 'Fast Food, Burger'),\n",
       "  Text(59, 0, 'Cafe, Fast Food'),\n",
       "  Text(60, 0, 'South Indian, Chinese'),\n",
       "  Text(61, 0, 'Beverages, Desserts'),\n",
       "  Text(62, 0, 'Ice Cream'),\n",
       "  Text(63, 0, 'Beverages'),\n",
       "  Text(64, 0, 'Biryani, South Indian'),\n",
       "  Text(65, 0, 'Kerala, South Indian'),\n",
       "  Text(66, 0, 'Fast Food, Beverages'),\n",
       "  Text(67, 0, 'South Indian, Chinese, North Indian'),\n",
       "  Text(68, 0, 'Mithai')])"
      ]
     },
     "execution_count": 47,
     "metadata": {},
     "output_type": "execute_result"
    },
    {
     "data": {
      "image/png": "[encoded data removed]",
      "text/plain": [
       "<Figure size 1080x576 with 1 Axes>"
      ]
     },
     "metadata": {},
     "output_type": "display_data"
    }
   ],
   "source": [
    "plt.figure(figsize = (15,8))\n",
    "sb.barplot(df7.index , df7['votes'])\n",
    "plt.xticks(rotation = 90)"
   ]
  }
 ],
 "metadata": {
  "kernelspec": {
   "display_name": "Python 3",
   "language": "python",
   "name": "python3"
  },
  "language_info": {
   "codemirror_mode": {
    "name": "ipython",
    "version": 3
   },
   "file_extension": ".py",
   "mimetype": "text/x-python",
   "name": "python",
   "nbconvert_exporter": "python",
   "pygments_lexer": "ipython3",
   "version": "3.7.10"
  },
  "papermill": {
   "default_parameters": {},
   "duration": 40.178576,
   "end_time": "2021-10-14T18:52:26.843330",
   "environment_variables": {},
   "exception": null,
   "input_path": "__notebook__.ipynb",
   "output_path": "__notebook__.ipynb",
   "parameters": {},
   "start_time": "2021-10-14T18:51:46.664754",
   "version": "2.3.3"
  }
 },
 "nbformat": 4,
 "nbformat_minor": 5
}
